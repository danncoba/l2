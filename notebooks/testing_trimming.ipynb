{
 "cells": [
  {
   "cell_type": "code",
   "id": "initial_id",
   "metadata": {
    "collapsed": true,
    "ExecuteTime": {
     "end_time": "2025-08-01T07:57:20.384695Z",
     "start_time": "2025-08-01T07:57:20.382329Z"
    }
   },
   "source": [
    "import os\n",
    "from langtrace_python_sdk import langtrace\n",
    "\n",
    "from dotenv import load_dotenv\n",
    "from agents.validations_agent import MsgTrimmer"
   ],
   "outputs": [],
   "execution_count": 7
  },
  {
   "metadata": {
    "ExecuteTime": {
     "end_time": "2025-08-01T07:57:30.196128Z",
     "start_time": "2025-08-01T07:57:20.653465Z"
    }
   },
   "cell_type": "code",
   "source": [
    "load_dotenv()\n",
    "\n",
    "LANGTRACE_API_KEY = os.getenv(\"LANGTRACE_API_KEY\")\n",
    "LANGTRACE_HOST = os.getenv(\"LANGTRACE_HOST\")\n",
    "\n",
    "langtrace.init(api_key=LANGTRACE_API_KEY, api_host=LANGTRACE_HOST)"
   ],
   "id": "bf863d45cc4c4426",
   "outputs": [
    {
     "name": "stdout",
     "output_type": "stream",
     "text": [
      "\u001B[33mWarning: Your Langtrace SDK version 3.8.18 is outdated. Please upgrade to 3.8.21.\u001B[39m\n",
      "\u001B[32mInitializing Langtrace SDK..\u001B[39m\n",
      "\u001B[37m⭐ Leave our github a star to stay on top of our updates - https://github.com/Scale3-Labs/langtrace\u001B[39m\n",
      "Skipping litellm due to error while instrumenting: module 'litellm.main' has no attribute 'image_generation'\n",
      "Skipping openai-agents due to error while instrumenting: No module named 'agents.run'\n",
      "\u001B[34mExporting spans to custom host: http://localhost:3000..\u001B[39m\n"
     ]
    },
    {
     "name": "stderr",
     "output_type": "stream",
     "text": [
      "/Users/danijeldjuric/.local/share/virtualenvs/l2work-p89lVMS_/lib/python3.13/site-packages/tqdm/auto.py:21: TqdmWarning: IProgress not found. Please update jupyter and ipywidgets. See https://ipywidgets.readthedocs.io/en/stable/user_install.html\n",
      "  from .autonotebook import tqdm as notebook_tqdm\n"
     ]
    }
   ],
   "execution_count": 8
  },
  {
   "metadata": {},
   "cell_type": "code",
   "outputs": [],
   "execution_count": null,
   "source": "",
   "id": "30f3d7949bf0975c"
  }
 ],
 "metadata": {
  "kernelspec": {
   "display_name": "Python 3",
   "language": "python",
   "name": "python3"
  },
  "language_info": {
   "codemirror_mode": {
    "name": "ipython",
    "version": 2
   },
   "file_extension": ".py",
   "mimetype": "text/x-python",
   "name": "python",
   "nbconvert_exporter": "python",
   "pygments_lexer": "ipython2",
   "version": "2.7.6"
  }
 },
 "nbformat": 4,
 "nbformat_minor": 5
}
