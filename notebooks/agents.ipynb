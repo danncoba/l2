{
 "cells": [
  {
   "cell_type": "code",
   "id": "initial_id",
   "metadata": {
    "collapsed": true,
    "ExecuteTime": {
     "end_time": "2025-06-13T17:45:13.018211Z",
     "start_time": "2025-06-13T17:45:13.014598Z"
    }
   },
   "source": [
    "import os\n",
    "from typing import Annotated, TypedDict\n",
    "from IPython.display import display, Image\n",
    "\n",
    "from dotenv import load_dotenv\n",
    "from langchain_core.prompts import PromptTemplate\n",
    "from langchain_openai import ChatOpenAI\n",
    "from langchain_community.tools import DuckDuckGoSearchRun\n",
    "from langchain.tools import tool\n",
    "from langchain_core.messages import HumanMessage\n",
    "from langgraph.graph import StateGraph, START, END\n",
    "from langgraph.graph.message import add_messages\n",
    "from langgraph.prebuilt import ToolNode, tools_condition"
   ],
   "outputs": [],
   "execution_count": 53
  },
  {
   "metadata": {
    "ExecuteTime": {
     "end_time": "2025-06-13T18:35:57.929760Z",
     "start_time": "2025-06-13T18:35:57.923209Z"
    }
   },
   "cell_type": "code",
   "source": [
    "load_dotenv()\n",
    "\n",
    "search = DuckDuckGoSearchRun()\n",
    "\n",
    "tools = [search]\n",
    "\n",
    "LITE_LLM_API_KEY = os.getenv(\"OPENAI_API_KEY\")\n",
    "LITE_LLM_URL = os.getenv(\"OPENAI_BASE_URL\")\n",
    "LITE_MODEL = os.getenv(\"OPENAI_MODEL\")\n",
    "\n",
    "model = ChatOpenAI(\n",
    "    model=LITE_MODEL, base_url=LITE_LLM_URL, api_key=LITE_LLM_API_KEY\n",
    ").bind_tools(tools)\n",
    "\n",
    "\n",
    "class ReasonerState(TypedDict):\n",
    "    messages: Annotated[list, add_messages]\n",
    "    agent_scratchpad: Annotated[list, add_messages]\n",
    "\n",
    "\n",
    "def reasoner_agent(state: ReasonerState) -> ReasonerState:\n",
    "    print(f\"Model state: {state}\")\n",
    "    prompt_template = PromptTemplate.from_template(\n",
    "        \"\"\"\n",
    "        You are reasoning through the data supplied to by the user\n",
    "\n",
    "        You can utilize the following tools:\n",
    "        def duckduckgo_search(query: str) -> Useful for when you need to answer questions about current events. Input should be a search query.\n",
    "\n",
    "        Here are the steps you need to take:\n",
    "        Question: User provided question\n",
    "        Analyze: analyze what the user has given you and decide which tool to call\n",
    "        Call Tool: call appropriate tool amongst the tools [duckduckgo_search]\n",
    "        Reflect: is the information that has gotten enough?\n",
    "        Analyze/Call Tool/Reflect can be called 5 times at most to get to the final answer\n",
    "        Final Answer: When reasoning has stopped and you have the answer\n",
    "\n",
    "        Begin!\n",
    "        Question: {question}\n",
    "        {agent_scratchpad}\n",
    "        \"\"\"\n",
    "    )\n",
    "    prompt = prompt_template.invoke(\n",
    "        {\"question\": state[\"messages\"][-1].content, \"agent_scratchpad\": \"\"}\n",
    "    )\n",
    "    print(f\"Prompt: {prompt}\")\n",
    "    res = model.invoke(state[\"messages\"])\n",
    "    print(\"RESULT ->\", res)\n",
    "    return {\"messages\": [res.content]}\n",
    "\n",
    "\n",
    "builder = StateGraph(ReasonerState)\n",
    "builder.add_node(\"model\", reasoner_agent)\n",
    "builder.add_node(\"tools\", ToolNode(tools))\n",
    "builder.add_edge(START, \"model\")\n",
    "builder.add_conditional_edges(\"model\", tools_condition)\n",
    "builder.add_edge(\"tools\", \"model\")\n",
    "\n",
    "graph = builder.compile()"
   ],
   "id": "842f029b35c155d1",
   "outputs": [],
   "execution_count": 57
  },
  {
   "metadata": {
    "ExecuteTime": {
     "end_time": "2025-06-13T18:35:59.571561Z",
     "start_time": "2025-06-13T18:35:59.427598Z"
    }
   },
   "cell_type": "code",
   "source": "display(Image(graph.get_graph().draw_mermaid_png()))",
   "id": "31c8dbe75ff6a809",
   "outputs": [
    {
     "data": {
      "image/png": "[encoded data removed]",
      "text/plain": [
       "<IPython.core.display.Image object>"
      ]
     },
     "metadata": {},
     "output_type": "display_data"
    }
   ],
   "execution_count": 58
  },
  {
   "metadata": {
    "ExecuteTime": {
     "end_time": "2025-06-13T18:36:01.945664Z",
     "start_time": "2025-06-13T18:36:00.263569Z"
    }
   },
   "cell_type": "code",
   "source": [
    "msg = {\n",
    "    \"messages\": [\n",
    "        HumanMessage(\n",
    "            \"\"\"How old was the 30th president of the United States\n",
    "                        when he died?\"\"\"\n",
    "        )\n",
    "    ],\n",
    "    \"agent_scratchpad\": [\"\"],\n",
    "}\n",
    "for c in graph.stream(msg):\n",
    "    print(c)"
   ],
   "id": "bdbce2c793633a",
   "outputs": [
    {
     "name": "stdout",
     "output_type": "stream",
     "text": [
      "Model state: {'messages': [HumanMessage(content='How old was the 30th president of the United States\\n                        when he died?', additional_kwargs={}, response_metadata={}, id='74f96ded-f7a7-4567-bb9b-6aa94bde8bcc')], 'agent_scratchpad': [HumanMessage(content='', additional_kwargs={}, response_metadata={}, id='77babc83-88bd-49f4-afef-97bc8aeefe5b')]}\n",
      "Prompt: text='\\n        You are reasoning through the data supplied to by the user\\n\\n        You can utilize the following tools:\\n        def duckduckgo_search(query: str) -> Useful for when you need to answer questions about current events. Input should be a search query.\\n\\n        Here are the steps you need to take:\\n        Question: User provided question\\n        Analyze: analyze what the user has given you and decide which tool to call\\n        Call Tool: call appropriate tool amongst the tools [duckduckgo_search]\\n        Reflect: is the information that has gotten enough?\\n        Analyze/Call Tool/Reflect can be called 5 times at most to get to the final answer\\n        Final Answer: When reasoning has stopped and you have the answer\\n\\n        Begin!\\n        Question: How old was the 30th president of the United States\\n                        when he died?\\n        \\n        '\n",
      "RESULT -> content='' additional_kwargs={'tool_calls': [{'id': 'call_hb60b3agnhAou3uQfrNq7bjO', 'function': {'arguments': '{\"query\":\"30th president of the United States age at death\"}', 'name': 'duckduckgo_search'}, 'type': 'function'}], 'refusal': None} response_metadata={'token_usage': {'completion_tokens': 27, 'prompt_tokens': 91, 'total_tokens': 118, 'completion_tokens_details': {'accepted_prediction_tokens': 0, 'audio_tokens': 0, 'reasoning_tokens': 0, 'rejected_prediction_tokens': 0}, 'prompt_tokens_details': {'audio_tokens': 0, 'cached_tokens': 0}}, 'model_name': 'gpt-4o-mini-2024-07-18', 'system_fingerprint': 'fp_57db37749c', 'id': 'chatcmpl-Bi3XtSXz0yimzObDydUTu1NgYXDo6', 'service_tier': None, 'finish_reason': 'tool_calls', 'logprobs': None} id='run--848b7561-690e-496a-98b6-abb8e94dd077-0' tool_calls=[{'name': 'duckduckgo_search', 'args': {'query': '30th president of the United States age at death'}, 'id': 'call_hb60b3agnhAou3uQfrNq7bjO', 'type': 'tool_call'}] usage_metadata={'input_tokens': 91, 'output_tokens': 27, 'total_tokens': 118, 'input_token_details': {'audio': 0, 'cache_read': 0}, 'output_token_details': {'audio': 0, 'reasoning': 0}}\n",
      "{'model': {'messages': ['']}}\n"
     ]
    }
   ],
   "execution_count": 59
  },
  {
   "metadata": {},
   "cell_type": "code",
   "outputs": [],
   "execution_count": null,
   "source": "",
   "id": "b5c383a5ab5592d1"
  }
 ],
 "metadata": {
  "kernelspec": {
   "display_name": "Python 3",
   "language": "python",
   "name": "python3"
  },
  "language_info": {
   "codemirror_mode": {
    "name": "ipython",
    "version": 2
   },
   "file_extension": ".py",
   "mimetype": "text/x-python",
   "name": "python",
   "nbconvert_exporter": "python",
   "pygments_lexer": "ipython2",
   "version": "2.7.6"
  }
 },
 "nbformat": 4,
 "nbformat_minor": 5
}
