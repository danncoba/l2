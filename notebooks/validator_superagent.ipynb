{
 "cells": [
  {
   "cell_type": "code",
   "id": "initial_id",
   "metadata": {
    "collapsed": true,
    "ExecuteTime": {
     "end_time": "2025-07-20T18:49:05.129804Z",
     "start_time": "2025-07-20T18:49:04.409084Z"
    }
   },
   "source": [
    "import os\n",
    "from typing import TypedDict, Optional\n",
    "\n",
    "from dotenv import load_dotenv\n",
    "from langchain_openai import ChatOpenAI\n",
    "from langgraph.graph import StateGraph\n",
    "from langgraph.prebuilt import create_react_agent\n",
    "\n",
    "load_dotenv()\n",
    "\n",
    "LITE_LLM_API_KEY = os.getenv(\"OPENAI_API_KEY\")\n",
    "LITE_LLM_URL = os.getenv(\"OPENAI_BASE_URL\")\n",
    "LITE_MODEL = os.getenv(\"OPENAI_MODEL\")"
   ],
   "outputs": [],
   "execution_count": 1
  },
  {
   "metadata": {
    "ExecuteTime": {
     "end_time": "2025-07-20T18:50:55.404821Z",
     "start_time": "2025-07-20T18:50:55.401253Z"
    }
   },
   "cell_type": "code",
   "source": [
    "class MatrixValidationState(TypedDict):\n",
    "    user_id: int\n",
    "    skill_id: int\n",
    "    pass\n",
    "\n",
    "\n",
    "async def grading_agent(state: MatrixValidationState):\n",
    "    model = ChatOpenAI(\n",
    "        model=LITE_MODEL,\n",
    "        base_url=LITE_LLM_URL,\n",
    "        api_key=LITE_LLM_API_KEY,\n",
    "        temperature=0,\n",
    "        max_tokens=300,\n",
    "    )\n",
    "    create_react_agent()\n",
    "    pass\n",
    "\n",
    "\n",
    "async def get_graph():\n",
    "    pass\n"
   ],
   "id": "7515ec0f13cb160a",
   "outputs": [],
   "execution_count": 2
  },
  {
   "metadata": {},
   "cell_type": "code",
   "outputs": [],
   "execution_count": null,
   "source": "",
   "id": "a0d4a18e16c0ccbd"
  }
 ],
 "metadata": {
  "kernelspec": {
   "display_name": "Python 3",
   "language": "python",
   "name": "python3"
  },
  "language_info": {
   "codemirror_mode": {
    "name": "ipython",
    "version": 2
   },
   "file_extension": ".py",
   "mimetype": "text/x-python",
   "name": "python",
   "nbconvert_exporter": "python",
   "pygments_lexer": "ipython2",
   "version": "2.7.6"
  }
 },
 "nbformat": 4,
 "nbformat_minor": 5
}
