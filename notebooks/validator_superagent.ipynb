{
 "cells": [
  {
   "cell_type": "code",
   "id": "initial_id",
   "metadata": {
    "collapsed": true,
    "ExecuteTime": {
     "end_time": "2025-07-21T16:12:23.684473Z",
     "start_time": "2025-07-21T16:12:23.667907Z"
    }
   },
   "source": [
    "import os\n",
    "import pprint\n",
    "import gradio as gr\n",
    "from typing import TypedDict, Optional\n",
    "\n",
    "from dotenv import load_dotenv\n",
    "from langchain_core.prompts import ChatPromptTemplate\n",
    "from langchain_core.tools import render_text_description, StructuredTool\n",
    "from langgraph.graph import add_messages\n",
    "from langchain_openai import ChatOpenAI\n",
    "from langgraph.constants import START, END\n",
    "from langgraph.graph import StateGraph\n",
    "from langgraph.prebuilt import create_react_agent\n",
    "from langgraph.types import RetryPolicy\n",
    "from langtrace_python_sdk import get_prompt_from_registry\n",
    "from sqlalchemy.sql.annotation import Annotated\n",
    "\n",
    "from tools.tools import get_validator_questions_per_difficulty\n",
    "\n",
    "load_dotenv()\n",
    "\n",
    "LITE_LLM_API_KEY = os.getenv(\"OPENAI_API_KEY\")\n",
    "LITE_LLM_URL = os.getenv(\"OPENAI_BASE_URL\")\n",
    "LITE_MODEL = os.getenv(\"OPENAI_MODEL\")"
   ],
   "outputs": [],
   "execution_count": 126
  },
  {
   "metadata": {
    "ExecuteTime": {
     "end_time": "2025-07-21T16:47:46.496988Z",
     "start_time": "2025-07-21T16:47:46.492533Z"
    }
   },
   "cell_type": "code",
   "source": [
    "class MatrixValidationState(TypedDict):\n",
    "    skill_id: int\n",
    "    difficulty: int\n",
    "    messages: Annotated[list, add_messages]\n",
    "\n",
    "\n",
    "async def grading_agent(state: MatrixValidationState):\n",
    "    model = ChatOpenAI(\n",
    "        model=LITE_MODEL,\n",
    "        base_url=LITE_LLM_URL,\n",
    "        api_key=LITE_LLM_API_KEY,\n",
    "        temperature=0,\n",
    "        max_tokens=300,\n",
    "    )\n",
    "    tools = [\n",
    "        StructuredTool.from_function(\n",
    "            name=\"get_validator_questions_per_difficulty\",\n",
    "            func=get_validator_questions_per_difficulty,\n",
    "            coroutine=get_validator_questions_per_difficulty,\n",
    "        )\n",
    "    ]\n",
    "    intermediate_steps = []\n",
    "    # prompt_id = \"cmdd7k7z70082yrs5rjo3a0ti\"\n",
    "    # grading_prompt = get_prompt_from_registry(prompt_id)\n",
    "    prompt_template = ChatPromptTemplate.from_messages(\n",
    "        [\n",
    "            (\n",
    "                \"system\",\n",
    "                \"\"\"\n",
    "Skill Id: 1\n",
    "Difficulty Level: 4\n",
    "Response of the tool get_validator_questions_per_difficulty will return question and the answer.\n",
    "You validate the user knowledge against the answer that is provided!\n",
    "\n",
    "You are grading users knowledge based on question (answer holds the answer against which you validate did the user answer correctly). If the user has fully answered the question just return \"correct\".\n",
    "Validate the answer by comparing similarity between the answer returned from the tool and users answer!\n",
    "If the user has partially answered the question, explain the correctness of the answer and explain to the user the values that should be explained additionally to complete the grading. Do not however explain the response in any way just explain what is needed by the answer. Additionally everything you ask the user has to be present in the answer! Do not ask an explanations that are not present in the answer!\n",
    "Ask at most 2 additional times for additional explanations to the answer before concluding whether the answer is correct or incorrect.\n",
    "Additionally if some explanation is not present in the answer, do not ask for them, conclude the grading as correct!\n",
    "If you conclude after 2 additional questions that the user does not know the answer return the value \"wrong\"!\n",
    "If the answer does not contain the explanation for a specific topic do not ask the user for it!\n",
    "        \"\"\",\n",
    "            ),\n",
    "            (\n",
    "                \"ai\",\n",
    "                \"Please explain how you would configure a custom AuthenticationProvider in a Spring Boot application using Spring Security. What are the key interfaces and how do they interact?\",\n",
    "            ),\n",
    "            (\n",
    "                \"human\",\n",
    "                \"our own auth provider implementation extends AuthenticationProvider interface, implementing authenticate and supports methods. We register it in SecurityFilterChain. Our provider talks with AuthenticationManager to provide authentication \",\n",
    "            ),\n",
    "            (\n",
    "                \"ai\",\n",
    "                \"Your answer partially covers the configuration of a custom AuthenticationProvider in a Spring Boot application using Spring Security. \\n\\nTo complete the grading, please explain the following additional points:\\n1. What is the purpose of the `authenticate` method in your custom AuthenticationProvider implementation?\\n2. Can you describe the role of the `supports` method and what it checks for?\",\n",
    "            ),\n",
    "            (\n",
    "                \"human\",\n",
    "                \"authenticate actually runs the authentication logic while supports is used by authenentication manager to check whether auth provider can handle this auth type\",\n",
    "            ),\n",
    "        ]\n",
    "    )\n",
    "    prompt = await prompt_template.ainvoke({})\n",
    "    agent = create_react_agent(model=model, tools=tools)\n",
    "    response = await agent.ainvoke(prompt)\n",
    "\n",
    "    pprint.pprint(response, indent=4)\n",
    "    return {\n",
    "        \"skill_id\": state[\"skill_id\"],\n",
    "        \"difficulty\": state[\"difficulty\"],\n",
    "        \"messages\": response[\"messages\"][-1].content,\n",
    "    }\n",
    "\n",
    "\n",
    "async def get_graph():\n",
    "    graph = StateGraph(MatrixValidationState)\n",
    "    graph.add_node(\"grading\", grading_agent, retry_policy=RetryPolicy(max_attempts=3))\n",
    "    graph.add_edge(START, \"grading\")\n",
    "    graph.add_edge(\"grading\", END)\n",
    "    return graph.compile()"
   ],
   "id": "7515ec0f13cb160a",
   "outputs": [],
   "execution_count": 174
  },
  {
   "metadata": {
    "ExecuteTime": {
     "end_time": "2025-07-21T16:47:48.296743Z",
     "start_time": "2025-07-21T16:47:46.933351Z"
    }
   },
   "cell_type": "code",
   "source": [
    "grading_graph = await get_graph()\n",
    "\n",
    "response = await grading_graph.ainvoke(\n",
    "    input={\"skill_id\": 1, \"difficulty\": 4, \"messages\": []}\n",
    ")\n",
    "# A custom AuthenticationProvider implements the AuthenticationProvider interface, overriding the authenticate() and supports() methods. It is registered in a SecurityFilterChain or WebSecurityConfigurerAdapter configuration. It interacts with AuthenticationManager to perform authentication logic."
   ],
   "id": "969f24632476cdcf",
   "outputs": [
    {
     "name": "stdout",
     "output_type": "stream",
     "text": [
      "{   'messages': [   SystemMessage(content='\\nSkill Id: 1\\nDifficulty Level: 4\\nResponse of the tool get_validator_questions_per_difficulty will return question and the answer.\\nYou validate the user knowledge against the answer that is provided!\\n\\nYou are grading users knowledge based on question (answer holds the answer against which you validate did the user answer correctly). If the user has fully answered the question just return \"correct\".\\nValidate the answer by comparing similarity between the answer returned from the tool and users answer!\\nIf the user has partially answered the question, explain the correctness of the answer and explain to the user the values that should be explained additionally to complete the grading. Do not however explain the response in any way just explain what is needed by the answer. Additionally everything you ask the user has to be present in the answer! Do not ask an explanations that are not present in the answer!\\nAsk at most 2 additional times for additional explanations to the answer before concluding whether the answer is correct or incorrect.\\nAdditionally if some explanation is not present in the answer, do not ask for them, conclude the grading as correct!\\nIf you conclude after 2 additional questions that the user does not know the answer return the value \"wrong\"!\\nIf the answer does not contain the explanation for a specific topic do not ask the user for it!\\n        ', additional_kwargs={}, response_metadata={}, id='055be59c-5e94-48f1-ae54-d6d924251853'),\n",
      "                    AIMessage(content='Please explain how you would configure a custom AuthenticationProvider in a Spring Boot application using Spring Security. What are the key interfaces and how do they interact?', additional_kwargs={}, response_metadata={}, id='fc37e374-2595-484a-8591-b167131d2773'),\n",
      "                    HumanMessage(content='our own auth provider implementation extends AuthenticationProvider interface, implementing authenticate and supports methods. We register it in SecurityFilterChain. Our provider talks with AuthenticationManager to provide authentication ', additional_kwargs={}, response_metadata={}, id='b20fc782-0755-4502-9419-dfbe105dc63f'),\n",
      "                    AIMessage(content='Your answer partially covers the configuration of a custom AuthenticationProvider in a Spring Boot application using Spring Security. \\n\\nTo complete the grading, please explain the following additional points:\\n1. What is the purpose of the `authenticate` method in your custom AuthenticationProvider implementation?\\n2. Can you describe the role of the `supports` method and what it checks for?', additional_kwargs={}, response_metadata={}, id='81924bcf-aa23-44f4-aa95-f6c12d6b3278'),\n",
      "                    HumanMessage(content='authenticate actually runs the authentication logic while supports is used by authenentication manager to check whether auth provider can handle this auth type', additional_kwargs={}, response_metadata={}, id='0243b137-5070-4dc1-a9ff-63b9e00697c5'),\n",
      "                    AIMessage(content='Your answer is getting closer, but it still lacks some details. \\n\\nTo further complete the grading, please explain:\\n1. How does the `AuthenticationManager` utilize the `AuthenticationProvider` during the authentication process?\\n2. What is the significance of registering the custom AuthenticationProvider in the SecurityFilterChain?', additional_kwargs={'refusal': None}, response_metadata={'token_usage': {'completion_tokens': 63, 'prompt_tokens': 547, 'total_tokens': 610, 'completion_tokens_details': {'accepted_prediction_tokens': 0, 'audio_tokens': 0, 'reasoning_tokens': 0, 'rejected_prediction_tokens': 0}, 'prompt_tokens_details': {'audio_tokens': 0, 'cached_tokens': 0, 'text_tokens': None, 'image_tokens': None}}, 'model_name': 'gpt-4o-mini-2024-07-18', 'system_fingerprint': 'fp_efad92c60b', 'id': 'chatcmpl-BvnxzVVTJNdrK3oheksB47RsjnTih', 'service_tier': None, 'finish_reason': 'stop', 'logprobs': None}, id='run--e668682b-f1c5-4c13-a4f7-58ac1a247c01-0', usage_metadata={'input_tokens': 547, 'output_tokens': 63, 'total_tokens': 610, 'input_token_details': {'audio': 0, 'cache_read': 0}, 'output_token_details': {'audio': 0, 'reasoning': 0}})]}\n"
     ]
    }
   ],
   "execution_count": 175
  },
  {
   "metadata": {},
   "cell_type": "code",
   "source": "",
   "id": "13807614e53dfdae",
   "outputs": [],
   "execution_count": null
  }
 ],
 "metadata": {
  "kernelspec": {
   "display_name": "Python 3",
   "language": "python",
   "name": "python3"
  },
  "language_info": {
   "codemirror_mode": {
    "name": "ipython",
    "version": 2
   },
   "file_extension": ".py",
   "mimetype": "text/x-python",
   "name": "python",
   "nbconvert_exporter": "python",
   "pygments_lexer": "ipython2",
   "version": "2.7.6"
  }
 },
 "nbformat": 4,
 "nbformat_minor": 5
}
