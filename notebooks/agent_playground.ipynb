{
 "cells": [
  {
   "cell_type": "code",
   "id": "6f66d6a9-9c4e-44be-8099-73b477c97aa1",
   "metadata": {
    "ExecuteTime": {
     "end_time": "2025-06-14T13:04:49.180490Z",
     "start_time": "2025-06-14T13:04:45.434245Z"
    }
   },
   "source": [
    "import os\n",
    "import ast\n",
    "import json\n",
    "from typing import Annotated, TypedDict\n",
    "from IPython.display import display, Image\n",
    "\n",
    "from dotenv import load_dotenv\n",
    "from langchain_community.tools import DuckDuckGoSearchRun\n",
    "from langchain_core.messages import HumanMessage\n",
    "from langchain_core.tools import tool\n",
    "from langchain_openai import ChatOpenAI"
   ],
   "outputs": [],
   "execution_count": 1
  },
  {
   "cell_type": "code",
   "id": "a296e62e-52af-422b-a788-98a482f53487",
   "metadata": {
    "ExecuteTime": {
     "end_time": "2025-06-14T13:04:49.649931Z",
     "start_time": "2025-06-14T13:04:49.191973Z"
    }
   },
   "source": [
    "from langgraph.graph import START, StateGraph\n",
    "from langgraph.graph.message import add_messages\n",
    "from langgraph.prebuilt import ToolNode, tools_condition"
   ],
   "outputs": [],
   "execution_count": 2
  },
  {
   "cell_type": "code",
   "id": "683d44bc-b4d4-48b8-9bdb-8bd91f6bc52c",
   "metadata": {
    "ExecuteTime": {
     "end_time": "2025-06-14T13:04:50.002840Z",
     "start_time": "2025-06-14T13:04:49.997058Z"
    }
   },
   "source": [
    "load_dotenv()\n",
    "print(\"STARTED\")\n",
    "\n",
    "\n",
    "LITE_LLM_API_KEY = os.getenv(\"OPENAI_API_KEY\")\n",
    "LITE_LLM_URL = os.getenv(\"OPENAI_BASE_URL\")\n",
    "LITE_MODEL = os.getenv(\"OPENAI_MODEL\")\n",
    "\n",
    "\n",
    "@tool\n",
    "def calculator(query: str) -> str:\n",
    "    \"\"\"A simple calculator tool. Input should be a mathematical expression.\"\"\"\n",
    "    return ast.literal_eval(query)"
   ],
   "outputs": [
    {
     "name": "stdout",
     "output_type": "stream",
     "text": [
      "STARTED\n"
     ]
    }
   ],
   "execution_count": 3
  },
  {
   "cell_type": "code",
   "id": "1f20dd80-b009-4ade-8a53-484caf2c0bb2",
   "metadata": {
    "ExecuteTime": {
     "end_time": "2025-06-14T13:04:51.399012Z",
     "start_time": "2025-06-14T13:04:50.061486Z"
    }
   },
   "source": [
    "search = DuckDuckGoSearchRun()\n",
    "tools = [calculator, search]\n",
    "llm = ChatOpenAI(\n",
    "    model=LITE_MODEL, api_key=LITE_LLM_API_KEY, base_url=LITE_LLM_URL\n",
    ").bind_tools(tools)"
   ],
   "outputs": [],
   "execution_count": 4
  },
  {
   "metadata": {
    "ExecuteTime": {
     "end_time": "2025-06-14T13:04:51.412791Z",
     "start_time": "2025-06-14T13:04:51.410454Z"
    }
   },
   "cell_type": "code",
   "source": [
    "class State(TypedDict):\n",
    "    messages: Annotated[list, add_messages]"
   ],
   "id": "e02618bc01a2d472",
   "outputs": [],
   "execution_count": 5
  },
  {
   "metadata": {
    "ExecuteTime": {
     "end_time": "2025-06-14T13:04:51.443027Z",
     "start_time": "2025-06-14T13:04:51.424969Z"
    }
   },
   "cell_type": "code",
   "source": [
    "def model_node(state: State) -> State:\n",
    "    print(f\"Model node: {state['messages']}\")\n",
    "    res = llm.invoke(state[\"messages\"])\n",
    "    return {\"messages\": [res]}\n",
    "\n",
    "\n",
    "builder = StateGraph(State)\n",
    "builder.add_node(\"model\", model_node)\n",
    "builder.add_node(\"tools\", ToolNode(tools))\n",
    "builder.add_edge(START, \"model\")\n",
    "builder.add_conditional_edges(\"model\", tools_condition)\n",
    "builder.add_edge(\"tools\", \"model\")\n",
    "graph = builder.compile()"
   ],
   "id": "580ab625d935ff",
   "outputs": [],
   "execution_count": 6
  },
  {
   "cell_type": "code",
   "id": "8c40fbd2-a9da-4021-9338-0d97a0eaefee",
   "metadata": {
    "ExecuteTime": {
     "end_time": "2025-06-14T13:04:51.687948Z",
     "start_time": "2025-06-14T13:04:51.451743Z"
    }
   },
   "source": "display(Image(graph.get_graph().draw_mermaid_png()))",
   "outputs": [
    {
     "data": {
      "image/png": "[encoded data removed]",
      "text/plain": [
       "<IPython.core.display.Image object>"
      ]
     },
     "metadata": {},
     "output_type": "display_data"
    }
   ],
   "execution_count": 7
  },
  {
   "metadata": {
    "ExecuteTime": {
     "end_time": "2025-06-14T13:05:42.093262Z",
     "start_time": "2025-06-14T13:05:37.380893Z"
    }
   },
   "cell_type": "code",
   "source": [
    "msg = {\n",
    "    \"messages\": [\n",
    "        HumanMessage(\n",
    "            \"\"\"How old was the 30th president of the United States when he died?\"\"\"\n",
    "        )\n",
    "    ]\n",
    "}\n",
    "for c in graph.stream(msg):\n",
    "    print(c)"
   ],
   "id": "8682a4fc39777c1b",
   "outputs": [
    {
     "name": "stdout",
     "output_type": "stream",
     "text": [
      "Model node: [HumanMessage(content='How old was the 30th president of the United States when he died?', additional_kwargs={}, response_metadata={}, id='f5f55a44-b671-45be-90e3-c788daa0cabc')]\n",
      "{'model': {'messages': [AIMessage(content='', additional_kwargs={'tool_calls': [{'id': 'call_gJONwLFfo8KOklPJaJITqtGj', 'function': {'arguments': '{\"query\":\"30th president of the United States age at death\"}', 'name': 'duckduckgo_search'}, 'type': 'function'}], 'refusal': None}, response_metadata={'token_usage': {'completion_tokens': 27, 'prompt_tokens': 114, 'total_tokens': 141, 'completion_tokens_details': {'accepted_prediction_tokens': 0, 'audio_tokens': 0, 'reasoning_tokens': 0, 'rejected_prediction_tokens': 0}, 'prompt_tokens_details': {'audio_tokens': 0, 'cached_tokens': 0}}, 'model_name': 'gpt-4o-mini-2024-07-18', 'system_fingerprint': 'fp_57db37749c', 'id': 'chatcmpl-BiKriEXZWy9Zn3KDpSIuImnkmvYIk', 'service_tier': None, 'finish_reason': 'tool_calls', 'logprobs': None}, id='run--5173f2ac-5f0a-4618-aa4c-c4cb9d5b98a9-0', tool_calls=[{'name': 'duckduckgo_search', 'args': {'query': '30th president of the United States age at death'}, 'id': 'call_gJONwLFfo8KOklPJaJITqtGj', 'type': 'tool_call'}], usage_metadata={'input_tokens': 114, 'output_tokens': 27, 'total_tokens': 141, 'input_token_details': {'audio': 0, 'cache_read': 0}, 'output_token_details': {'audio': 0, 'reasoning': 0}})]}}\n",
      "{'tools': {'messages': [ToolMessage(content=\"Calvin Coolidge (born John Calvin Coolidge Jr.; [1] / ˈ k uː l ɪ dʒ / KOOL-ij; July 4, 1872 - January 5, 1933) was the 30th president of the United States, serving from 1923 to 1929.A Republican lawyer from Massachusetts, he previously served as the 29th vice president from 1921 to 1923 under President Warren G. Harding, and as the 48th governor of Massachusetts from 1919 to 1921. Calvin Coolidge was the 30th president of the United States (1923-29). Coolidge acceded to the presidency after the death in office of Warren G. Harding, just as the Harding scandals were coming to light. He restored integrity to the executive branch while continuing Harding's conservative pro-business policies. The first table below charts the age of each president of the United States at the time of their presidential inauguration (first inauguration if elected to multiple and consecutive terms), upon leaving office, and at the time of death. Where the president is still living, their lifespan and post-presidency timespan are calculated through June 12, 2025. Consequently, his actions during the upheaval paved the way for his nomination as vice president in 1920, illustrating his emergence as a key player in the Republican Party. Vice Presidency and Presidential Duties. Calvin Coolidge served as the 30th Vice President of the United States from 1921 to 1923 under President Warren G. Harding. Here are all 44 US presidents, ordered by their age at the start of their presidencies. While the minimum age requirement for president is 35 years old, the median age of presidents when elected to office is 55 years old. In 2017, President Donald Trump became the oldest elected president at 70 years old.\", name='duckduckgo_search', id='e79564bf-5ec2-43bf-9540-627d87738796', tool_call_id='call_gJONwLFfo8KOklPJaJITqtGj')]}}\n",
      "Model node: [HumanMessage(content='How old was the 30th president of the United States when he died?', additional_kwargs={}, response_metadata={}, id='f5f55a44-b671-45be-90e3-c788daa0cabc'), AIMessage(content='', additional_kwargs={'tool_calls': [{'id': 'call_gJONwLFfo8KOklPJaJITqtGj', 'function': {'arguments': '{\"query\":\"30th president of the United States age at death\"}', 'name': 'duckduckgo_search'}, 'type': 'function'}], 'refusal': None}, response_metadata={'token_usage': {'completion_tokens': 27, 'prompt_tokens': 114, 'total_tokens': 141, 'completion_tokens_details': {'accepted_prediction_tokens': 0, 'audio_tokens': 0, 'reasoning_tokens': 0, 'rejected_prediction_tokens': 0}, 'prompt_tokens_details': {'audio_tokens': 0, 'cached_tokens': 0}}, 'model_name': 'gpt-4o-mini-2024-07-18', 'system_fingerprint': 'fp_57db37749c', 'id': 'chatcmpl-BiKriEXZWy9Zn3KDpSIuImnkmvYIk', 'service_tier': None, 'finish_reason': 'tool_calls', 'logprobs': None}, id='run--5173f2ac-5f0a-4618-aa4c-c4cb9d5b98a9-0', tool_calls=[{'name': 'duckduckgo_search', 'args': {'query': '30th president of the United States age at death'}, 'id': 'call_gJONwLFfo8KOklPJaJITqtGj', 'type': 'tool_call'}], usage_metadata={'input_tokens': 114, 'output_tokens': 27, 'total_tokens': 141, 'input_token_details': {'audio': 0, 'cache_read': 0}, 'output_token_details': {'audio': 0, 'reasoning': 0}}), ToolMessage(content=\"Calvin Coolidge (born John Calvin Coolidge Jr.; [1] / ˈ k uː l ɪ dʒ / KOOL-ij; July 4, 1872 - January 5, 1933) was the 30th president of the United States, serving from 1923 to 1929.A Republican lawyer from Massachusetts, he previously served as the 29th vice president from 1921 to 1923 under President Warren G. Harding, and as the 48th governor of Massachusetts from 1919 to 1921. Calvin Coolidge was the 30th president of the United States (1923-29). Coolidge acceded to the presidency after the death in office of Warren G. Harding, just as the Harding scandals were coming to light. He restored integrity to the executive branch while continuing Harding's conservative pro-business policies. The first table below charts the age of each president of the United States at the time of their presidential inauguration (first inauguration if elected to multiple and consecutive terms), upon leaving office, and at the time of death. Where the president is still living, their lifespan and post-presidency timespan are calculated through June 12, 2025. Consequently, his actions during the upheaval paved the way for his nomination as vice president in 1920, illustrating his emergence as a key player in the Republican Party. Vice Presidency and Presidential Duties. Calvin Coolidge served as the 30th Vice President of the United States from 1921 to 1923 under President Warren G. Harding. Here are all 44 US presidents, ordered by their age at the start of their presidencies. While the minimum age requirement for president is 35 years old, the median age of presidents when elected to office is 55 years old. In 2017, President Donald Trump became the oldest elected president at 70 years old.\", name='duckduckgo_search', id='e79564bf-5ec2-43bf-9540-627d87738796', tool_call_id='call_gJONwLFfo8KOklPJaJITqtGj')]\n",
      "{'model': {'messages': [AIMessage(content='Calvin Coolidge, the 30th president of the United States, was born on July 4, 1872, and died on January 5, 1933. He was 60 years old when he died.', additional_kwargs={'refusal': None}, response_metadata={'token_usage': {'completion_tokens': 49, 'prompt_tokens': 540, 'total_tokens': 589, 'completion_tokens_details': {'accepted_prediction_tokens': 0, 'audio_tokens': 0, 'reasoning_tokens': 0, 'rejected_prediction_tokens': 0}, 'prompt_tokens_details': {'audio_tokens': 0, 'cached_tokens': 0}}, 'model_name': 'gpt-4o-mini-2024-07-18', 'system_fingerprint': 'fp_57db37749c', 'id': 'chatcmpl-BiKrkzmTGjV77mE3SHEziL4c7rGkP', 'service_tier': None, 'finish_reason': 'stop', 'logprobs': None}, id='run--70e7eb49-4591-404a-8e96-a780f8271591-0', usage_metadata={'input_tokens': 540, 'output_tokens': 49, 'total_tokens': 589, 'input_token_details': {'audio': 0, 'cache_read': 0}, 'output_token_details': {'audio': 0, 'reasoning': 0}})]}}\n"
     ]
    }
   ],
   "execution_count": 9
  },
  {
   "metadata": {},
   "cell_type": "code",
   "outputs": [],
   "execution_count": null,
   "source": "",
   "id": "39972aeaab9b38d7"
  }
 ],
 "metadata": {
  "kernelspec": {
   "display_name": "Python 3 (ipykernel)",
   "language": "python",
   "name": "python3"
  },
  "language_info": {
   "codemirror_mode": {
    "name": "ipython",
    "version": 3
   },
   "file_extension": ".py",
   "mimetype": "text/x-python",
   "name": "python",
   "nbconvert_exporter": "python",
   "pygments_lexer": "ipython3",
   "version": "3.12.8"
  }
 },
 "nbformat": 4,
 "nbformat_minor": 5
}
