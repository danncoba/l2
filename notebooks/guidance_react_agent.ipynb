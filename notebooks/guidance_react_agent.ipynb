{
 "cells": [
  {
   "cell_type": "code",
   "id": "initial_id",
   "metadata": {
    "collapsed": true,
    "ExecuteTime": {
     "end_time": "2025-06-24T18:57:16.152043Z",
     "start_time": "2025-06-24T18:57:15.307003Z"
    }
   },
   "source": [
    "import os\n",
    "from typing import Any, List\n",
    "\n",
    "from dotenv import load_dotenv\n",
    "from langchain_core.messages import SystemMessage\n",
    "from langchain_core.prompts import ChatPromptTemplate\n",
    "from langchain_openai import ChatOpenAI\n",
    "from langchain.tools import Tool, StructuredTool\n",
    "from langgraph.prebuilt import create_react_agent\n",
    "from pydantic import BaseModel, Field\n",
    "\n",
    "from db.db import get_session\n",
    "from db.models import Grade\n",
    "from service.service import BaseService"
   ],
   "outputs": [],
   "execution_count": 2
  },
  {
   "metadata": {
    "ExecuteTime": {
     "end_time": "2025-06-24T18:57:16.883922Z",
     "start_time": "2025-06-24T18:57:16.738661Z"
    }
   },
   "cell_type": "code",
   "source": [
    "load_dotenv()\n",
    "LITE_LLM_API_KEY = os.getenv(\"OPENAI_API_KEY\")\n",
    "\n",
    "\n",
    "model = ChatOpenAI(\n",
    "    model=\"gpt-4o\", api_key=LITE_LLM_API_KEY, streaming=True, verbose=True\n",
    ")\n",
    "\n",
    "\n",
    "class GuidanceHelperStdOutput(BaseModel):\n",
    "    has_user_answered: bool = Field(\n",
    "        description=\"Whether the user has correctly answered the topic at hand\"\n",
    "    )\n",
    "    expertise_level: str = Field(\n",
    "        description=\"The expertise user has self evaluated himself with\"\n",
    "    )\n",
    "    expertise_id: int = Field(description=\"The expertise or grade ID\")\n",
    "    message: str = Field(description=\"Message to send to the user\")\n"
   ],
   "id": "95fde4d4577dcfae",
   "outputs": [],
   "execution_count": 3
  },
  {
   "metadata": {
    "ExecuteTime": {
     "end_time": "2025-06-24T18:57:17.963723Z",
     "start_time": "2025-06-24T18:57:17.959573Z"
    }
   },
   "cell_type": "code",
   "source": [
    "async def get_grades_or_expertise() -> List[Grade]:\n",
    "    \"\"\"\n",
    "    Useful tool to retrieve current grades or expertise level grading system\n",
    "    :return: List of json representing those grades and all their fields\n",
    "    \"\"\"\n",
    "    async for session in get_session():\n",
    "        service: BaseService[Grade, int, Any, Any] = BaseService(Grade, session)\n",
    "        all_db_grades = await service.list_all()\n",
    "        all_grades_json: List[str] = []\n",
    "        for grade in all_db_grades:\n",
    "            json_grade = grade.model_dump_json()\n",
    "            all_grades_json.append(json_grade)\n",
    "        return all_grades_json\n",
    "\n",
    "\n",
    "async def get_expertises_or_skills() -> List[Grade]:\n",
    "    \"\"\"\n",
    "    Useful tool to retrieve current grades or expertise level grading system\n",
    "    :return: List of json representing those grades and all their fields\n",
    "    \"\"\"\n",
    "    async for session in get_session():\n",
    "        service: BaseService[Grade, int, Any, Any] = BaseService(Grade, session)\n",
    "        all_db_grades = await service.list_all()\n",
    "        all_grades_json: List[str] = []\n",
    "        for grade in all_db_grades:\n",
    "            json_grade = grade.model_dump_json()\n",
    "            all_grades_json.append(json_grade)\n",
    "        return all_grades_json\n"
   ],
   "id": "b31ef0def751741d",
   "outputs": [],
   "execution_count": 4
  },
  {
   "metadata": {
    "ExecuteTime": {
     "end_time": "2025-06-24T19:05:10.140774Z",
     "start_time": "2025-06-24T19:05:10.137499Z"
    }
   },
   "cell_type": "code",
   "source": [
    "from dto.response.matrix_chats import MessageDict\n",
    "\n",
    "msgs: List[MessageDict] = [\n",
    "    MessageDict(\n",
    "        msg_type=\"ai\",\n",
    "        message=\"\"\"\n",
    "        Welcome to the Discussion on Web Standards Compliance Expertise\n",
    "\n",
    "Hello Carol,\n",
    "\n",
    "We're thrilled to have you join our conversation about Web Standards Compliance, an essential skill that ensures adherence to W3C standards and best practices in web development.\n",
    "\n",
    "The goal of our discussion is to help you understand the different levels of expertise available and guide you in selecting the most suitable one for your current needs and aspirations. Here's a breakdown of the expertise levels to consider:\n",
    "\n",
    "Not Informed - For those new to the subject.\n",
    "Informed Basics - Covers fundamental concepts.\n",
    "Informed in Details - Provides a more in-depth understanding.\n",
    "Practice and Lab Examples - Involves hands-on application and experimentation.\n",
    "Production Maintenance - Focuses on maintaining existing projects.\n",
    "Production from Scratch - Covers building new projects from the ground up.\n",
    "Educator/Expert - For those aiming to teach or achieve expert-level proficiency.\n",
    "Our aim is to empower you to make an informed decision about which level best suits your journey within Web Standards Compliance. Let's embark on this learning journey together!\n",
    "        \"\"\"\n",
    "    ),\n",
    "    MessageDict(\n",
    "        msg_type=\"human\",\n",
    "        message=\"\"\"\n",
    "        What si the difference between not informed and informed basics?\n",
    "        \"\"\"\n",
    "    ),\n",
    "    MessageDict(\n",
    "        msg_type=\"ai\",\n",
    "        message=\"\"\"\n",
    "        \"Not Informed\" indicates no knowledge or exposure, while \"Informed Basics\" covers fundamental understanding of W3C standards. Need further clarity or assistance? Let me know!\n",
    "        \"\"\"\n",
    "    ),\n",
    "    MessageDict(\n",
    "        msg_type=\"human\",\n",
    "        message=\"\"\"\n",
    "        And what about production from scratch and production maintenance?\n",
    "        \"\"\"\n",
    "    ),\n",
    "    MessageDict(\n",
    "        msg_type=\"ai\",\n",
    "        message=\"\"\"\n",
    "        Could you please share some details about your experience or skills in web development, particularly related to web standards compliance, so I can better assist you in assessing your expertise level? If you\\'re unsure, feel free to ask questions related to the topic! Remember, the goal is to identify your most accurate expertise level based on your experiences and knowledge in this area. If you\\'re uncertain, consider discussing your current project or recent tasks related to web standards. Let\\'s identify your expertise level accurately! 😊\n",
    "        \"\"\"\n",
    "    ),\n",
    "    MessageDict(\n",
    "        msg_type=\"human\",\n",
    "        message=\"\"\"\n",
    "        I've had a bit of practice. Done a project in it a brownfield one. What am i then\n",
    "        \"\"\"\n",
    "    ),\n",
    "    # MessageDict(\n",
    "    #     msg_type=\"ai\",\n",
    "    #     message=\"\"\"\n",
    "    #     The difference between \"Informed Basics\" and \"Informed in Details\" in the context of expertise in Cryptography can be understood as follows:\\n\\n- **Informed Basics**: This level indicates familiarity with fundamental concepts of cryptography. You have a basic understanding and can perform elementary tasks or recognize key concepts, but may not possess a deep comprehension of the subject.\\n\\n- **Informed in Details**: At this level, you have comprehensive knowledge of cryptography. You understand complex ideas, can handle intricate issues, and demonstrate a thorough grasp of the subject. This level reflects a more sophisticated and in-depth understanding than \"Informed Basics.\"\\n\\nWould you like to select an expertise level now?\n",
    "    #     \"\"\"\n",
    "    # ),\n",
    "    # MessageDict(\n",
    "    #     msg_type=\"human\",\n",
    "    #     message=\"\"\"\n",
    "    #     What is the topic at hand?\n",
    "    #     \"\"\"\n",
    "    # ),\n",
    "    # MessageDict(\n",
    "    #     msg_type=\"ai\",\n",
    "    #     message=\"\"\"\n",
    "    #     I'm here to assist you with evaluating your expertise level in Cryptography. Please select an expertise level that best represents your current understanding. If you have questions about the differences between the levels, feel free to ask!\n",
    "    #     \"\"\"\n",
    "    # ),\n",
    "    # MessageDict(\n",
    "    #     msg_type=\"human\",\n",
    "    #     message=\"\"\"\n",
    "    #     Informed in Details\n",
    "    #     \"\"\"\n",
    "    # ),\n",
    "#     MessageDict(\n",
    "#         msg_type=\"ai\",\n",
    "#         message=\"\"\"\n",
    "#         User,\n",
    "#\n",
    "#         I noticed that the answers you've been providing are not directly addressing the questions asked and seem to be off-topic or unrelated. It's important for us to maintain clear and relevant communication to ensure that we can assist you effectively.\n",
    "#\n",
    "#         If this pattern continues, we may need to escalate the issue to our managers for further review. Please let us know if there's anything we can do to help or clarify things for you.\n",
    "#\n",
    "#         Thank you for your understanding and cooperation.\n",
    "#         \"\"\"\n",
    "#     ),\n",
    "#     MessageDict(\n",
    "#         msg_type=\"human\",\n",
    "#         message=\"\"\"\n",
    "#         Practice and Lab Examples\n",
    "#         \"\"\"\n",
    "#     ),\n",
    "]"
   ],
   "id": "d9cd92115770ef7a",
   "outputs": [],
   "execution_count": 16
  },
  {
   "metadata": {
    "ExecuteTime": {
     "end_time": "2025-06-24T19:05:15.591766Z",
     "start_time": "2025-06-24T19:05:10.589434Z"
    }
   },
   "cell_type": "code",
   "source": [
    "from utils.common import convert_msg_dict_to_langgraph_format\n",
    "\n",
    "tools = [StructuredTool.from_function(\n",
    "    function=get_grades_or_expertise,\n",
    "    coroutine=get_grades_or_expertise,\n",
    ")]\n",
    "system_msg = \"\"\"\n",
    "You are helping the user to properly grade their expertise in the mentioned field.\n",
    "    Everything you help him with should be done by utilizing the tools or around the topic\n",
    "    of helping him populate his expertise level on the topic.\n",
    "    Do not discuss anything except from the provided context.\n",
    "    You are guiding the user to evaluate himself on provided topic.\n",
    "    Do not discuss anything (any other topic) except from the ones provided in topic!\n",
    "    Do not chat about other topics with the user, guide him how to populate his expertise with the grades provided\n",
    "    Warn the user if answering with unrelated topics or evading to answer the question will be escalated by involving managers!\n",
    "    Do not base an categorization fully when user is uncertain!\n",
    "    Topic: {context}.\n",
    "    When you decide implicitly the categorization, please confirm with the user before continuing.\n",
    "    Until this confirmation is present to not finalize your categorization!\n",
    "    If the user is evading to answer the question and is not asking any questions related to the topic for 4 or 5 messages\n",
    "    please involve admin\n",
    "    When the user answers with proper categorization of skills return only that categorization!\n",
    "\"\"\"\n",
    "agent = create_react_agent(model=model, tools=tools, response_format=GuidanceHelperStdOutput)\n",
    "messages = convert_msg_dict_to_langgraph_format(msgs)\n",
    "async for chunk in agent.astream({\"messages\": [SystemMessage(system_msg)] + messages, \"context\": messages[0]}):\n",
    "    print(\"RESPONSE ->>>>>>>>>>>>\", chunk)"
   ],
   "id": "40553d61598ae216",
   "outputs": [
    {
     "name": "stdout",
     "output_type": "stream",
     "text": [
      "RESPONSE ->>>>>>>>>>>> {'agent': {'messages': [AIMessage(content='', additional_kwargs={'tool_calls': [{'index': 0, 'id': 'call_Ra9f57qNTHZidZQCnK14Xo5K', 'function': {'arguments': '{}', 'name': 'get_grades_or_expertise'}, 'type': 'function'}]}, response_metadata={'finish_reason': 'tool_calls', 'model_name': 'gpt-4o-2024-08-06', 'system_fingerprint': 'fp_07871e2ad8', 'service_tier': 'default'}, id='run--f9519902-2e82-451e-b665-ac755080a624-0', tool_calls=[{'name': 'get_grades_or_expertise', 'args': {}, 'id': 'call_Ra9f57qNTHZidZQCnK14Xo5K', 'type': 'tool_call'}])]}}\n",
      "RESPONSE ->>>>>>>>>>>> {'tools': {'messages': [ToolMessage(content='[\"{\\\\\"id\\\\\":1,\\\\\"value\\\\\":1,\\\\\"label\\\\\":\\\\\"Not Informed\\\\\",\\\\\"deleted\\\\\":false}\", \"{\\\\\"id\\\\\":2,\\\\\"value\\\\\":2,\\\\\"label\\\\\":\\\\\"Informed Basics\\\\\",\\\\\"deleted\\\\\":false}\", \"{\\\\\"id\\\\\":4,\\\\\"value\\\\\":3,\\\\\"label\\\\\":\\\\\"Informed in details\\\\\",\\\\\"deleted\\\\\":false}\", \"{\\\\\"id\\\\\":5,\\\\\"value\\\\\":4,\\\\\"label\\\\\":\\\\\"Practice and lab examples\\\\\",\\\\\"deleted\\\\\":false}\", \"{\\\\\"id\\\\\":6,\\\\\"value\\\\\":5,\\\\\"label\\\\\":\\\\\"Production maintenance\\\\\",\\\\\"deleted\\\\\":false}\", \"{\\\\\"id\\\\\":7,\\\\\"value\\\\\":6,\\\\\"label\\\\\":\\\\\"Production from scratch\\\\\",\\\\\"deleted\\\\\":false}\", \"{\\\\\"id\\\\\":9,\\\\\"value\\\\\":7,\\\\\"label\\\\\":\\\\\"Educator/Expert\\\\\",\\\\\"deleted\\\\\":false}\"]', name='get_grades_or_expertise', id='241ba7a7-d985-4618-9890-e9ea308a43af', tool_call_id='call_Ra9f57qNTHZidZQCnK14Xo5K')]}}\n",
      "RESPONSE ->>>>>>>>>>>> {'agent': {'messages': [AIMessage(content='Based on your experience, having completed a brownfield project (an existing project adaptation or extension) in web standards compliance, you would likely fall under the \"Production Maintenance\" level. This level involves maintaining and working with existing projects while ensuring compliance with web standards.\\n\\nWould you agree with this categorization, or would you like to provide more details to refine your expertise level?', additional_kwargs={}, response_metadata={'finish_reason': 'stop', 'model_name': 'gpt-4o-2024-08-06', 'system_fingerprint': 'fp_07871e2ad8', 'service_tier': 'default'}, id='run--a22ecdd2-d2f4-4a06-843e-dd01f5c1e61c-0')]}}\n",
      "RESPONSE ->>>>>>>>>>>> {'generate_structured_response': {'structured_response': GuidanceHelperStdOutput(has_user_answered=True, expertise_level='Production maintenance', expertise_id=5, message='')}}\n"
     ]
    }
   ],
   "execution_count": 17
  },
  {
   "metadata": {
    "ExecuteTime": {
     "end_time": "2025-06-22T15:56:43.777156Z",
     "start_time": "2025-06-22T15:56:43.775618Z"
    }
   },
   "cell_type": "code",
   "source": "",
   "id": "f4dce832e53c108",
   "outputs": [],
   "execution_count": null
  },
  {
   "metadata": {},
   "cell_type": "code",
   "outputs": [],
   "execution_count": null,
   "source": "",
   "id": "92e87883910f01b4"
  }
 ],
 "metadata": {
  "kernelspec": {
   "display_name": "Python 3",
   "language": "python",
   "name": "python3"
  },
  "language_info": {
   "codemirror_mode": {
    "name": "ipython",
    "version": 2
   },
   "file_extension": ".py",
   "mimetype": "text/x-python",
   "name": "python",
   "nbconvert_exporter": "python",
   "pygments_lexer": "ipython2",
   "version": "2.7.6"
  }
 },
 "nbformat": 4,
 "nbformat_minor": 5
}
