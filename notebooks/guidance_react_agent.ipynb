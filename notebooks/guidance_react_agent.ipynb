{
 "cells": [
  {
   "cell_type": "code",
   "id": "initial_id",
   "metadata": {
    "collapsed": true,
    "ExecuteTime": {
     "end_time": "2025-06-22T11:37:03.963214Z",
     "start_time": "2025-06-22T11:36:59.769014Z"
    }
   },
   "source": [
    "import os\n",
    "from typing import Any, List\n",
    "\n",
    "from dotenv import load_dotenv\n",
    "from langchain_core.messages import SystemMessage\n",
    "from langchain_core.prompts import ChatPromptTemplate\n",
    "from langchain_openai import ChatOpenAI\n",
    "from langchain.tools import Tool, StructuredTool\n",
    "from langgraph.prebuilt import create_react_agent\n",
    "from pydantic import BaseModel, Field\n",
    "\n",
    "from db.db import get_session\n",
    "from db.models import Grade\n",
    "from service.service import BaseService"
   ],
   "outputs": [],
   "execution_count": 1
  },
  {
   "metadata": {
    "ExecuteTime": {
     "end_time": "2025-06-22T11:37:04.337740Z",
     "start_time": "2025-06-22T11:37:03.989569Z"
    }
   },
   "cell_type": "code",
   "source": [
    "load_dotenv()\n",
    "LITE_LLM_API_KEY = os.getenv(\"OPENAI_API_KEY\")\n",
    "\n",
    "\n",
    "model = ChatOpenAI(\n",
    "    model=\"gpt-4o\", api_key=LITE_LLM_API_KEY, streaming=True, verbose=True\n",
    ")\n",
    "\n",
    "\n",
    "class GuidanceHelperStdOutput(BaseModel):\n",
    "    has_user_answered: bool = Field(\n",
    "        description=\"Whether the user has correctly answered the topic at hand\"\n",
    "    )\n",
    "    expertise_level: str = Field(\n",
    "        description=\"The expertise user has self evaluated himself with\"\n",
    "    )\n",
    "    expertise_id: int = Field(description=\"The expertise or grade ID\")\n",
    "    message: str = Field(description=\"Message to send to the user\")\n"
   ],
   "id": "95fde4d4577dcfae",
   "outputs": [],
   "execution_count": 2
  },
  {
   "metadata": {
    "ExecuteTime": {
     "end_time": "2025-06-22T11:37:04.347898Z",
     "start_time": "2025-06-22T11:37:04.345098Z"
    }
   },
   "cell_type": "code",
   "source": [
    "async def get_grades_or_expertise() -> List[Grade]:\n",
    "    \"\"\"\n",
    "    Useful tool to retrieve current grades or expertise level grading system\n",
    "    :return: List of json representing those grades and all their fields\n",
    "    \"\"\"\n",
    "    async for session in get_session():\n",
    "        service: BaseService[Grade, int, Any, Any] = BaseService(Grade, session)\n",
    "        all_db_grades = await service.list_all()\n",
    "        all_grades_json: List[str] = []\n",
    "        for grade in all_db_grades:\n",
    "            json_grade = grade.model_dump_json()\n",
    "            all_grades_json.append(json_grade)\n",
    "        return all_grades_json\n",
    "\n",
    "\n",
    "async def get_expertises_or_skills() -> List[Grade]:\n",
    "    \"\"\"\n",
    "    Useful tool to retrieve current grades or expertise level grading system\n",
    "    :return: List of json representing those grades and all their fields\n",
    "    \"\"\"\n",
    "    async for session in get_session():\n",
    "        service: BaseService[Grade, int, Any, Any] = BaseService(Grade, session)\n",
    "        all_db_grades = await service.list_all()\n",
    "        all_grades_json: List[str] = []\n",
    "        for grade in all_db_grades:\n",
    "            json_grade = grade.model_dump_json()\n",
    "            all_grades_json.append(json_grade)\n",
    "        return all_grades_json\n"
   ],
   "id": "b31ef0def751741d",
   "outputs": [],
   "execution_count": 3
  },
  {
   "metadata": {
    "ExecuteTime": {
     "end_time": "2025-06-22T11:37:04.369211Z",
     "start_time": "2025-06-22T11:37:04.356168Z"
    }
   },
   "cell_type": "code",
   "source": [
    "from dto.response.matrix_chats import MessageDict\n",
    "\n",
    "msgs: List[MessageDict] = [\n",
    "    MessageDict(\n",
    "        msg_type=\"ai\",\n",
    "        message=\"\"\"\n",
    "        We're excited to have you here to discuss the crucial topic of Docker Networking. Our discussion aims to help you understand and select the appropriate expertise level for this skill. It's essential to align your understanding and capabilities with the right expertise level that suits your needs.\n",
    "\n",
    "The available expertise levels range from basic awareness to expert-level proficiency:\n",
    "\n",
    "Not Informed: For individuals new to the concept.\n",
    "Informed Basics: For those with a foundational understanding.\n",
    "Informed in Details: For users with a detailed grasp of concepts.\n",
    "Practice and Lab Examples: For hands-on experience with Docker networking scenarios.\n",
    "Production Maintenance: For maintaining Docker environments.\n",
    "Production from Scratch: For building Docker-based solutions from the ground up.\n",
    "Educator/Expert: For those who can teach or provide expert guidance on Docker networking.\n",
    "Evaluate your current knowledge and the requirements of your role to determine which level best applies to you. This way, you'll ensure you're equipped with the right level of expertise to tackle Docker networking challenges effectively. Let's dive in and explore the best fit for your skills and aspirations!\n",
    "        \"\"\"\n",
    "    ),\n",
    "    MessageDict(\n",
    "        msg_type=\"human\",\n",
    "        message=\"\"\"\n",
    "        What is the difference between:\n",
    "        Not Informed: For individuals new to the concept.\n",
    "        Informed Basics: For those with a foundational understanding.\n",
    "        \"\"\"\n",
    "    ),\n",
    "    # MessageDict(\n",
    "    #     msg_type=\"ai\",\n",
    "    #     message=\"\"\"\n",
    "    #     Please select an expertise level that best represents your current understanding of Cryptography. This will help us identify where your strengths lie and areas for improvement:\\n\\n- Not Informed\\n- Informed Basics\\n- Informed in Details\\n- Practice and Lab Examples\\n- Production Maintenance\\n- Production from Scratch\\n- Educator/Expert\n",
    "    #     \"\"\"\n",
    "    # ),\n",
    "    # MessageDict(\n",
    "    #     msg_type=\"human\",\n",
    "    #     message=\"\"\"\n",
    "    #     Working great\n",
    "    #     \"\"\"\n",
    "    # ),\n",
    "    # MessageDict(\n",
    "    #     msg_type=\"ai\",\n",
    "    #     message=\"\"\"\n",
    "    #     Please select an expertise level that best represents your current understanding of Cryptography. This will help us identify where your strengths lie and areas for improvement:\\n\\n- Not Informed\\n- Informed Basics\\n- Informed in Details\\n- Practice and Lab Examples\\n- Production Maintenance\\n- Production from Scratch\\n- Educator/Expert\n",
    "    #     \"\"\"\n",
    "    # ),\n",
    "    # MessageDict(\n",
    "    #     msg_type=\"human\",\n",
    "    #     message=\"\"\"\n",
    "    #     What is the difference between informed in basics and informed in details?\n",
    "    #     \"\"\"\n",
    "    # ),\n",
    "    # MessageDict(\n",
    "    #     msg_type=\"ai\",\n",
    "    #     message=\"\"\"\n",
    "    #     The difference between \"Informed Basics\" and \"Informed in Details\" in the context of expertise in Cryptography can be understood as follows:\\n\\n- **Informed Basics**: This level indicates familiarity with fundamental concepts of cryptography. You have a basic understanding and can perform elementary tasks or recognize key concepts, but may not possess a deep comprehension of the subject.\\n\\n- **Informed in Details**: At this level, you have comprehensive knowledge of cryptography. You understand complex ideas, can handle intricate issues, and demonstrate a thorough grasp of the subject. This level reflects a more sophisticated and in-depth understanding than \"Informed Basics.\"\\n\\nWould you like to select an expertise level now?\n",
    "    #     \"\"\"\n",
    "    # ),\n",
    "    # MessageDict(\n",
    "    #     msg_type=\"human\",\n",
    "    #     message=\"\"\"\n",
    "    #     What is the topic at hand?\n",
    "    #     \"\"\"\n",
    "    # ),\n",
    "    # MessageDict(\n",
    "    #     msg_type=\"ai\",\n",
    "    #     message=\"\"\"\n",
    "    #     I'm here to assist you with evaluating your expertise level in Cryptography. Please select an expertise level that best represents your current understanding. If you have questions about the differences between the levels, feel free to ask!\n",
    "    #     \"\"\"\n",
    "    # ),\n",
    "    # MessageDict(\n",
    "    #     msg_type=\"human\",\n",
    "    #     message=\"\"\"\n",
    "    #     Informed in Details\n",
    "    #     \"\"\"\n",
    "    # ),\n",
    "#     MessageDict(\n",
    "#         msg_type=\"ai\",\n",
    "#         message=\"\"\"\n",
    "#         User,\n",
    "#\n",
    "#         I noticed that the answers you've been providing are not directly addressing the questions asked and seem to be off-topic or unrelated. It's important for us to maintain clear and relevant communication to ensure that we can assist you effectively.\n",
    "#\n",
    "#         If this pattern continues, we may need to escalate the issue to our managers for further review. Please let us know if there's anything we can do to help or clarify things for you.\n",
    "#\n",
    "#         Thank you for your understanding and cooperation.\n",
    "#         \"\"\"\n",
    "#     ),\n",
    "#     MessageDict(\n",
    "#         msg_type=\"human\",\n",
    "#         message=\"\"\"\n",
    "#         Practice and Lab Examples\n",
    "#         \"\"\"\n",
    "#     ),\n",
    "]"
   ],
   "id": "d9cd92115770ef7a",
   "outputs": [],
   "execution_count": 4
  },
  {
   "metadata": {
    "ExecuteTime": {
     "end_time": "2025-06-22T11:37:10.648162Z",
     "start_time": "2025-06-22T11:37:04.375544Z"
    }
   },
   "cell_type": "code",
   "source": [
    "from utils.common import convert_msg_dict_to_langgraph_format\n",
    "\n",
    "tools = [StructuredTool.from_function(\n",
    "    function=get_grades_or_expertise,\n",
    "    coroutine=get_grades_or_expertise,\n",
    ")]\n",
    "system_msg = \"\"\"\n",
    "You are helping the user to properly grade their expertise in the mentioned field.\n",
    "Everything you help him with should be done by utilizing the tools or around the topic\n",
    "of helping him populate his expertise level on the topic.\n",
    "Do not discuss anything except from the provided context.\n",
    "You are guiding the user to evaluate himself on provided topic.\n",
    "Do not discuss anything (any other topic) except from the ones provided in topic!\n",
    "Do not chat about other topics with the user, guide him how to populate his expertise with the grades provided\n",
    "Warn the user if answering with unrelated topics or evading to answer the question will be escalated by involving managers!\n",
    "Topic: {context}\n",
    "If the user is evading to answer the question and is not asking any questions related to the topic for 4 or 5 messages\n",
    "please respond with exactly:\"ASKING_ADMIN\"\n",
    "When the user answers with proper categorization of skills return only that categorization!\n",
    "\"\"\"\n",
    "agent = create_react_agent(model=model, tools=tools, response_format=GuidanceHelperStdOutput)\n",
    "messages = convert_msg_dict_to_langgraph_format(msgs)\n",
    "async for chunk in agent.astream({\"messages\": [SystemMessage(system_msg)] + messages, \"context\": messages[0]}):\n",
    "    print(\"RESPONSE ->>>>>>>>>>>>\", chunk)"
   ],
   "id": "40553d61598ae216",
   "outputs": [
    {
     "name": "stdout",
     "output_type": "stream",
     "text": [
      "RESPONSE ->>>>>>>>>>>> {'agent': {'messages': [AIMessage(content='', additional_kwargs={'tool_calls': [{'index': 0, 'id': 'call_4672pzsaGAv7aBXoEdrA0Nlt', 'function': {'arguments': '{}', 'name': 'get_grades_or_expertise'}, 'type': 'function'}]}, response_metadata={'finish_reason': 'tool_calls', 'model_name': 'gpt-4o-2024-08-06', 'system_fingerprint': 'fp_07871e2ad8', 'service_tier': 'default'}, id='run--2ce3c460-0e0d-4c41-a6e0-047a7bd5ec21-0', tool_calls=[{'name': 'get_grades_or_expertise', 'args': {}, 'id': 'call_4672pzsaGAv7aBXoEdrA0Nlt', 'type': 'tool_call'}])]}}\n",
      "RESPONSE ->>>>>>>>>>>> {'tools': {'messages': [ToolMessage(content='[\"{\\\\\"value\\\\\":1,\\\\\"id\\\\\":1,\\\\\"deleted\\\\\":false,\\\\\"label\\\\\":\\\\\"Not Informed\\\\\"}\", \"{\\\\\"value\\\\\":2,\\\\\"id\\\\\":2,\\\\\"deleted\\\\\":false,\\\\\"label\\\\\":\\\\\"Informed Basics\\\\\"}\", \"{\\\\\"value\\\\\":3,\\\\\"id\\\\\":4,\\\\\"deleted\\\\\":false,\\\\\"label\\\\\":\\\\\"Informed in details\\\\\"}\", \"{\\\\\"value\\\\\":4,\\\\\"id\\\\\":5,\\\\\"deleted\\\\\":false,\\\\\"label\\\\\":\\\\\"Practice and lab examples\\\\\"}\", \"{\\\\\"value\\\\\":5,\\\\\"id\\\\\":6,\\\\\"deleted\\\\\":false,\\\\\"label\\\\\":\\\\\"Production maintenance\\\\\"}\", \"{\\\\\"value\\\\\":6,\\\\\"id\\\\\":7,\\\\\"deleted\\\\\":false,\\\\\"label\\\\\":\\\\\"Production from scratch\\\\\"}\", \"{\\\\\"value\\\\\":7,\\\\\"id\\\\\":9,\\\\\"deleted\\\\\":false,\\\\\"label\\\\\":\\\\\"Educator/Expert\\\\\"}\"]', name='get_grades_or_expertise', id='77cd1a04-26a1-4c9e-bf8b-2f8a2559cbde', tool_call_id='call_4672pzsaGAv7aBXoEdrA0Nlt')]}}\n",
      "RESPONSE ->>>>>>>>>>>> {'agent': {'messages': [AIMessage(content='In evaluating your expertise in Docker Networking, here\\'s how you can differentiate between the levels \"Not Informed\" and \"Informed Basics\":\\n\\n1. **Not Informed**: This level is for individuals who are new to the concept and have no prior knowledge or exposure to Docker networking. It indicates an entry point where one has yet to begin understanding or familiarizing themselves with the basic concepts.\\n\\n2. **Informed Basics**: This level indicates a foundational understanding. It denotes that you have acquired a basic comprehension of Docker networking concepts, which includes having a surface-level grasp of how Docker networking works, possibly including some fundamental terminology and the ability to perform very simple networking tasks with guidance.\\n\\nPlease let me know if this information helps you accurately categorize your current expertise level within the context of Docker Networking.', additional_kwargs={}, response_metadata={'finish_reason': 'stop', 'model_name': 'gpt-4o-2024-08-06', 'system_fingerprint': 'fp_07871e2ad8', 'service_tier': 'default'}, id='run--3591d274-d601-4d92-8b8e-ed88f934e1fb-0')]}}\n",
      "RESPONSE ->>>>>>>>>>>> {'generate_structured_response': {'structured_response': GuidanceHelperStdOutput(has_user_answered=False, expertise_level='', expertise_id=0, message=\"The difference between 'Not Informed' and 'Informed Basics' mainly lies in the level of exposure and understanding:\\n\\n- **Not Informed**: This is where there is no exposure or understanding of the topics. Individuals at this level haven't interacted with the concepts of Docker Networking at all.\\n- **Informed Basics**: This indicates a basic level of understanding where you are familiar with the fundamental concepts and terminologies associated with Docker Networking but are not yet proficient in applying them.\\n\\nLet me know if this helps or if you need further assistance in determining your expertise level!\")}}\n"
     ]
    }
   ],
   "execution_count": 5
  },
  {
   "metadata": {
    "ExecuteTime": {
     "end_time": "2025-06-22T11:36:54.379490Z",
     "start_time": "2025-06-22T11:36:54.377972Z"
    }
   },
   "cell_type": "code",
   "source": "",
   "id": "f4dce832e53c108",
   "outputs": [],
   "execution_count": null
  },
  {
   "metadata": {},
   "cell_type": "code",
   "outputs": [],
   "execution_count": null,
   "source": "",
   "id": "92e87883910f01b4"
  }
 ],
 "metadata": {
  "kernelspec": {
   "display_name": "Python 3",
   "language": "python",
   "name": "python3"
  },
  "language_info": {
   "codemirror_mode": {
    "name": "ipython",
    "version": 2
   },
   "file_extension": ".py",
   "mimetype": "text/x-python",
   "name": "python",
   "nbconvert_exporter": "python",
   "pygments_lexer": "ipython2",
   "version": "2.7.6"
  }
 },
 "nbformat": 4,
 "nbformat_minor": 5
}
