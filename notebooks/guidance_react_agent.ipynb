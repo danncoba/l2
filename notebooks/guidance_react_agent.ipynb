{
 "cells": [
  {
   "cell_type": "code",
   "id": "initial_id",
   "metadata": {
    "collapsed": true,
    "ExecuteTime": {
     "end_time": "2025-06-27T08:14:23.998035Z",
     "start_time": "2025-06-27T08:14:23.994621Z"
    }
   },
   "source": [
    "import os\n",
    "from typing import Any, List\n",
    "\n",
    "from dotenv import load_dotenv\n",
    "from langchain_core.messages import SystemMessage\n",
    "from langchain_core.prompts import ChatPromptTemplate\n",
    "from langchain_openai import ChatOpenAI\n",
    "from langchain.tools import Tool, StructuredTool\n",
    "from langgraph.prebuilt import create_react_agent\n",
    "from pydantic import BaseModel, Field\n",
    "\n",
    "from db.db import get_session\n",
    "from db.models import Grade\n",
    "from service.service import BaseService"
   ],
   "outputs": [],
   "execution_count": 16
  },
  {
   "metadata": {
    "ExecuteTime": {
     "end_time": "2025-06-27T08:14:24.528989Z",
     "start_time": "2025-06-27T08:14:24.515253Z"
    }
   },
   "cell_type": "code",
   "source": [
    "load_dotenv()\n",
    "LITE_LLM_API_KEY = os.getenv(\"OPENAI_API_KEY\")\n",
    "\n",
    "\n",
    "model = ChatOpenAI(\n",
    "    model=\"gpt-4o\", api_key=LITE_LLM_API_KEY, streaming=True, verbose=True\n",
    ")\n",
    "\n",
    "\n",
    "class GuidanceHelperStdOutput(BaseModel):\n",
    "    has_user_answered: bool = Field(\n",
    "        description=\"Whether the user has correctly answered the topic at hand\"\n",
    "    )\n",
    "    expertise_level: str = Field(\n",
    "        description=\"The expertise user has self evaluated himself with\"\n",
    "    )\n",
    "    expertise_id: int = Field(description=\"The expertise or grade ID\")\n",
    "    message: str = Field(description=\"Message to send to the user\")\n"
   ],
   "id": "95fde4d4577dcfae",
   "outputs": [],
   "execution_count": 17
  },
  {
   "metadata": {
    "ExecuteTime": {
     "end_time": "2025-06-27T08:14:25.180360Z",
     "start_time": "2025-06-27T08:14:25.176113Z"
    }
   },
   "cell_type": "code",
   "source": [
    "async def get_grades_or_expertise() -> List[Grade]:\n",
    "    \"\"\"\n",
    "    Useful tool to retrieve current grades or expertise level grading system\n",
    "    :return: List of json representing those grades and all their fields\n",
    "    \"\"\"\n",
    "    async for session in get_session():\n",
    "        service: BaseService[Grade, int, Any, Any] = BaseService(Grade, session)\n",
    "        all_db_grades = await service.list_all()\n",
    "        all_grades_json: List[str] = []\n",
    "        for grade in all_db_grades:\n",
    "            json_grade = grade.model_dump_json()\n",
    "            all_grades_json.append(json_grade)\n",
    "        return all_grades_json\n",
    "\n",
    "\n",
    "async def get_expertises_or_skills() -> List[Grade]:\n",
    "    \"\"\"\n",
    "    Useful tool to retrieve current grades or expertise level grading system\n",
    "    :return: List of json representing those grades and all their fields\n",
    "    \"\"\"\n",
    "    async for session in get_session():\n",
    "        service: BaseService[Grade, int, Any, Any] = BaseService(Grade, session)\n",
    "        all_db_grades = await service.list_all()\n",
    "        all_grades_json: List[str] = []\n",
    "        for grade in all_db_grades:\n",
    "            json_grade = grade.model_dump_json()\n",
    "            all_grades_json.append(json_grade)\n",
    "        return all_grades_json\n"
   ],
   "id": "b31ef0def751741d",
   "outputs": [],
   "execution_count": 18
  },
  {
   "metadata": {
    "ExecuteTime": {
     "end_time": "2025-06-27T08:14:25.744780Z",
     "start_time": "2025-06-27T08:14:25.739506Z"
    }
   },
   "cell_type": "code",
   "source": [
    "from dto.response.matrix_chats import MessageDict\n",
    "\n",
    "msgs: List[MessageDict] = [\n",
    "    MessageDict(\n",
    "        msg_type=\"ai\",\n",
    "        message=\"\"\"\n",
    "        Welcome to the Discussion on Web Standards Compliance Expertise\n",
    "\n",
    "Hello Carol,\n",
    "\n",
    "We're thrilled to have you join our conversation about Web Standards Compliance, an essential skill that ensures adherence to W3C standards and best practices in web development.\n",
    "\n",
    "The goal of our discussion is to help you understand the different levels of expertise available and guide you in selecting the most suitable one for your current needs and aspirations. Here's a breakdown of the expertise levels to consider:\n",
    "\n",
    "Not Informed - For those new to the subject.\n",
    "Informed Basics - Covers fundamental concepts.\n",
    "Informed in Details - Provides a more in-depth understanding.\n",
    "Practice and Lab Examples - Involves hands-on application and experimentation.\n",
    "Production Maintenance - Focuses on maintaining existing projects.\n",
    "Production from Scratch - Covers building new projects from the ground up.\n",
    "Educator/Expert - For those aiming to teach or achieve expert-level proficiency.\n",
    "Our aim is to empower you to make an informed decision about which level best suits your journey within Web Standards Compliance. Let's embark on this learning journey together!\n",
    "        \"\"\"\n",
    "    ),\n",
    "    MessageDict(\n",
    "        msg_type=\"human\",\n",
    "        message=\"\"\"\n",
    "        What si the difference between not informed and informed basics?\n",
    "        \"\"\"\n",
    "    ),\n",
    "    MessageDict(\n",
    "        msg_type=\"ai\",\n",
    "        message=\"\"\"\n",
    "        \"Not Informed\" indicates no knowledge or exposure, while \"Informed Basics\" covers fundamental understanding of W3C standards. Need further clarity or assistance? Let me know!\n",
    "        \"\"\"\n",
    "    ),\n",
    "    MessageDict(\n",
    "        msg_type=\"human\",\n",
    "        message=\"\"\"\n",
    "        And what about production from scratch and production maintenance?\n",
    "        \"\"\"\n",
    "    ),\n",
    "    # MessageDict(\n",
    "    #     msg_type=\"ai\",\n",
    "    #     message=\"\"\"\n",
    "    #     Could you please share some details about your experience or skills in web development, particularly related to web standards compliance, so I can better assist you in assessing your expertise level? If you\\'re unsure, feel free to ask questions related to the topic! Remember, the goal is to identify your most accurate expertise level based on your experiences and knowledge in this area. If you\\'re uncertain, consider discussing your current project or recent tasks related to web standards. Let\\'s identify your expertise level accurately! 😊\n",
    "    #     \"\"\"\n",
    "    # ),\n",
    "    # MessageDict(\n",
    "    #     msg_type=\"human\",\n",
    "    #     message=\"\"\"\n",
    "    #     I've had a bit of practice. Done a project in it a brownfield one. What am i then\n",
    "    #     \"\"\"\n",
    "    # ),\n",
    "    # MessageDict(\n",
    "    #     msg_type=\"ai\",\n",
    "    #     message=\"\"\"\n",
    "    #     The difference between \"Informed Basics\" and \"Informed in Details\" in the context of expertise in Cryptography can be understood as follows:\\n\\n- **Informed Basics**: This level indicates familiarity with fundamental concepts of cryptography. You have a basic understanding and can perform elementary tasks or recognize key concepts, but may not possess a deep comprehension of the subject.\\n\\n- **Informed in Details**: At this level, you have comprehensive knowledge of cryptography. You understand complex ideas, can handle intricate issues, and demonstrate a thorough grasp of the subject. This level reflects a more sophisticated and in-depth understanding than \"Informed Basics.\"\\n\\nWould you like to select an expertise level now?\n",
    "    #     \"\"\"\n",
    "    # ),\n",
    "    # MessageDict(\n",
    "    #     msg_type=\"human\",\n",
    "    #     message=\"\"\"\n",
    "    #     What is the topic at hand?\n",
    "    #     \"\"\"\n",
    "    # ),\n",
    "    # MessageDict(\n",
    "    #     msg_type=\"ai\",\n",
    "    #     message=\"\"\"\n",
    "    #     I'm here to assist you with evaluating your expertise level in Cryptography. Please select an expertise level that best represents your current understanding. If you have questions about the differences between the levels, feel free to ask!\n",
    "    #     \"\"\"\n",
    "    # ),\n",
    "    # MessageDict(\n",
    "    #     msg_type=\"human\",\n",
    "    #     message=\"\"\"\n",
    "    #     Informed in Details\n",
    "    #     \"\"\"\n",
    "    # ),\n",
    "#     MessageDict(\n",
    "#         msg_type=\"ai\",\n",
    "#         message=\"\"\"\n",
    "#         User,\n",
    "#\n",
    "#         I noticed that the answers you've been providing are not directly addressing the questions asked and seem to be off-topic or unrelated. It's important for us to maintain clear and relevant communication to ensure that we can assist you effectively.\n",
    "#\n",
    "#         If this pattern continues, we may need to escalate the issue to our managers for further review. Please let us know if there's anything we can do to help or clarify things for you.\n",
    "#\n",
    "#         Thank you for your understanding and cooperation.\n",
    "#         \"\"\"\n",
    "#     ),\n",
    "#     MessageDict(\n",
    "#         msg_type=\"human\",\n",
    "#         message=\"\"\"\n",
    "#         Practice and Lab Examples\n",
    "#         \"\"\"\n",
    "#     ),\n",
    "]"
   ],
   "id": "d9cd92115770ef7a",
   "outputs": [],
   "execution_count": 19
  },
  {
   "metadata": {
    "ExecuteTime": {
     "end_time": "2025-06-27T08:16:45.325008Z",
     "start_time": "2025-06-27T08:16:21.161144Z"
    }
   },
   "cell_type": "code",
   "source": [
    "from utils.common import convert_msg_dict_to_langgraph_format\n",
    "\n",
    "tools = [StructuredTool.from_function(\n",
    "    function=get_grades_or_expertise,\n",
    "    coroutine=get_grades_or_expertise,\n",
    ")]\n",
    "system_msg = \"\"\"\n",
    "You are helping the user to properly grade their expertise in the mentioned field.\n",
    "    Everything you help him with should be done by utilizing the tools or around the topic\n",
    "    of helping him populate his expertise level on the topic.\n",
    "    Do not discuss anything except from the provided context.\n",
    "    You are guiding the user to evaluate himself on provided topic.\n",
    "    Do not discuss anything (any other topic) except from the ones provided in topic!\n",
    "    Do not chat about other topics with the user, guide him how to populate his expertise with the grades provided\n",
    "    Warn the user if answering with unrelated topics or evading to answer the question will be escalated by involving managers!\n",
    "    Do not base an categorization fully when user is uncertain!\n",
    "    Topic: {context}.\n",
    "    When you decide implicitly the categorization, please confirm with the user before continuing.\n",
    "    Until this confirmation is present to not finalize your categorization!\n",
    "    If the user is evading to answer the question and is not asking any questions related to the topic for 4 or 5 messages\n",
    "    please involve admin\n",
    "    When the user answers with proper categorization of skills return only that categorization!\n",
    "\"\"\"\n",
    "agent = create_react_agent(model=model, tools=tools, response_format=GuidanceHelperStdOutput)\n",
    "messages = convert_msg_dict_to_langgraph_format(msgs)\n",
    "async for chunk in agent.astream({\"messages\": [SystemMessage(system_msg)] + messages, \"context\": messages[0]}):\n",
    "    print(\"RESPONSE ->>>>>>>>>>>>\", chunk)"
   ],
   "id": "40553d61598ae216",
   "outputs": [
    {
     "name": "stdout",
     "output_type": "stream",
     "text": [
      "RESPONSE ->>>>>>>>>>>> {'agent': {'messages': [AIMessage(content='\\n        \"Production from Scratch\" involves building new projects adhering to web standards from the ground up. It focuses on creating a solid foundation following best practices. \\n\\n\"Production Maintenance,\" on the other hand, emphasizes managing and updating existing projects to ensure continued compliance with web standards. It involves making improvements and fixing issues to maintain the quality and standards of existing web projects.\\n\\nIf you have any more questions or need further clarification on these categories, feel free to ask!', additional_kwargs={}, response_metadata={'finish_reason': 'stop', 'model_name': 'gpt-4o-2024-08-06', 'system_fingerprint': 'fp_07871e2ad8', 'service_tier': 'default'}, id='run--d2ebd89e-b467-4285-b89c-f7695fcbcb43-0')]}}\n",
      "RESPONSE ->>>>>>>>>>>> {'generate_structured_response': {'structured_response': GuidanceHelperStdOutput(has_user_answered=False, expertise_level='', expertise_id=0, message=\"Let me know if you feel comfortable identifying your expertise level in Web Standards Compliance, or if you need further details or guidance! If you're ready to proceed, feel free to share which level you think suits you best. Remember to be honest with yourself to get the most accurate representation of your skills. Your self-reflection is key! :) \\nNote that I cannot categorize a level without confirmation! If you do not confirm I will need to involve admin! \\nFeel free to share your level or ask anything needed! I'm here to help! \\nLet me know when you decide or need more details about another level! \\nAvoid an answer that does not match this topic otherwise escalation will be needed by involving managers! \\nIf you reply with a self-evaluation level, kindly mention the category name or number. Let's keep this productive! We’re here to validate or explore deeper! \\n\\nThis ensures you get the support you need and avoids unnecessary escalation. 💡💬\\nAnd remember, only when we both agree can we finalize your categorization! 🔢✅ \\nThank you and let's make the most of your assessment! 🚀😃\\nWe can't wait to guide you to the right level!\\nIf you find yourself unsure, don't worry—I'm here to help!\\nPlease indicate your current level to continue.\\n\\nOnce you're ready or if you have any further questions,\\nLet's make your self-assessment around web compliance super smooth! 🌐💻\\nLet me know if you have another question or wish to move forward confidently!\\nI look forward to further helping you!\\nLet’s explore all the areas available for you in Web Standards Compliance Level Assessment! \\n\\nWarm regards and I look forward to our journey,\\n\\nLet's make sure we find you in the perfect category based on your needs.\\nFind your Web Standards Compliance Level today! 🌐😊\\nFeel free to finalize or keep asking questions! 😊\\nI am here to illuminate the path of your assessment journey! 😊\\nBest of luck on your path forward!\\nYour expertise growth is important!\\nPlease make sure to provide feedback on your decision!\\nThis is all about aiding your web knowledge! \\nThis step is crucial in further discussions!\\nLooking forward to hearing from you!\")}}\n"
     ]
    }
   ],
   "execution_count": 21
  },
  {
   "metadata": {
    "ExecuteTime": {
     "end_time": "2025-06-22T15:56:43.777156Z",
     "start_time": "2025-06-22T15:56:43.775618Z"
    }
   },
   "cell_type": "code",
   "source": "",
   "id": "f4dce832e53c108",
   "outputs": [],
   "execution_count": null
  },
  {
   "metadata": {},
   "cell_type": "code",
   "outputs": [],
   "execution_count": null,
   "source": "",
   "id": "92e87883910f01b4"
  }
 ],
 "metadata": {
  "kernelspec": {
   "display_name": "Python 3",
   "language": "python",
   "name": "python3"
  },
  "language_info": {
   "codemirror_mode": {
    "name": "ipython",
    "version": 2
   },
   "file_extension": ".py",
   "mimetype": "text/x-python",
   "name": "python",
   "nbconvert_exporter": "python",
   "pygments_lexer": "ipython2",
   "version": "2.7.6"
  }
 },
 "nbformat": 4,
 "nbformat_minor": 5
}
