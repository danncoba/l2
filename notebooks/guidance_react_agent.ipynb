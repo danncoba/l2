{
 "cells": [
  {
   "cell_type": "code",
   "id": "initial_id",
   "metadata": {
    "collapsed": true,
    "ExecuteTime": {
     "end_time": "2025-06-22T15:52:24.571795Z",
     "start_time": "2025-06-22T15:52:24.568553Z"
    }
   },
   "source": [
    "import os\n",
    "from typing import Any, List\n",
    "\n",
    "from dotenv import load_dotenv\n",
    "from langchain_core.messages import SystemMessage\n",
    "from langchain_core.prompts import ChatPromptTemplate\n",
    "from langchain_openai import ChatOpenAI\n",
    "from langchain.tools import Tool, StructuredTool\n",
    "from langgraph.prebuilt import create_react_agent\n",
    "from pydantic import BaseModel, Field\n",
    "\n",
    "from db.db import get_session\n",
    "from db.models import Grade\n",
    "from service.service import BaseService"
   ],
   "outputs": [],
   "execution_count": 11
  },
  {
   "metadata": {
    "ExecuteTime": {
     "end_time": "2025-06-22T15:52:24.896763Z",
     "start_time": "2025-06-22T15:52:24.890264Z"
    }
   },
   "cell_type": "code",
   "source": [
    "load_dotenv()\n",
    "LITE_LLM_API_KEY = os.getenv(\"OPENAI_API_KEY\")\n",
    "\n",
    "\n",
    "model = ChatOpenAI(\n",
    "    model=\"gpt-4o\", api_key=LITE_LLM_API_KEY, streaming=True, verbose=True\n",
    ")\n",
    "\n",
    "\n",
    "class GuidanceHelperStdOutput(BaseModel):\n",
    "    has_user_answered: bool = Field(\n",
    "        description=\"Whether the user has correctly answered the topic at hand\"\n",
    "    )\n",
    "    expertise_level: str = Field(\n",
    "        description=\"The expertise user has self evaluated himself with\"\n",
    "    )\n",
    "    expertise_id: int = Field(description=\"The expertise or grade ID\")\n",
    "    message: str = Field(description=\"Message to send to the user\")\n"
   ],
   "id": "95fde4d4577dcfae",
   "outputs": [],
   "execution_count": 12
  },
  {
   "metadata": {
    "ExecuteTime": {
     "end_time": "2025-06-22T15:52:25.414145Z",
     "start_time": "2025-06-22T15:52:25.410318Z"
    }
   },
   "cell_type": "code",
   "source": [
    "async def get_grades_or_expertise() -> List[Grade]:\n",
    "    \"\"\"\n",
    "    Useful tool to retrieve current grades or expertise level grading system\n",
    "    :return: List of json representing those grades and all their fields\n",
    "    \"\"\"\n",
    "    async for session in get_session():\n",
    "        service: BaseService[Grade, int, Any, Any] = BaseService(Grade, session)\n",
    "        all_db_grades = await service.list_all()\n",
    "        all_grades_json: List[str] = []\n",
    "        for grade in all_db_grades:\n",
    "            json_grade = grade.model_dump_json()\n",
    "            all_grades_json.append(json_grade)\n",
    "        return all_grades_json\n",
    "\n",
    "\n",
    "async def get_expertises_or_skills() -> List[Grade]:\n",
    "    \"\"\"\n",
    "    Useful tool to retrieve current grades or expertise level grading system\n",
    "    :return: List of json representing those grades and all their fields\n",
    "    \"\"\"\n",
    "    async for session in get_session():\n",
    "        service: BaseService[Grade, int, Any, Any] = BaseService(Grade, session)\n",
    "        all_db_grades = await service.list_all()\n",
    "        all_grades_json: List[str] = []\n",
    "        for grade in all_db_grades:\n",
    "            json_grade = grade.model_dump_json()\n",
    "            all_grades_json.append(json_grade)\n",
    "        return all_grades_json\n"
   ],
   "id": "b31ef0def751741d",
   "outputs": [],
   "execution_count": 13
  },
  {
   "metadata": {
    "ExecuteTime": {
     "end_time": "2025-06-22T15:53:15.787273Z",
     "start_time": "2025-06-22T15:53:15.782733Z"
    }
   },
   "cell_type": "code",
   "source": [
    "from dto.response.matrix_chats import MessageDict\n",
    "\n",
    "msgs: List[MessageDict] = [\n",
    "    MessageDict(\n",
    "        msg_type=\"ai\",\n",
    "        message=\"\"\"\n",
    "        Expertise: AWS CloudFormation\n",
    "\n",
    "Welcome, Andrew!\n",
    "\n",
    "We're here to discuss the best expertise level for you regarding AWS CloudFormation, a key tool in managing your cloud infrastructure efficiently. Understanding this skill can greatly enhance your ability to work with infrastructure as code using AWS CloudFormation templates.\n",
    "\n",
    "We have seven expertise levels available:\n",
    "\n",
    "Not Informed: If you're new to AWS CloudFormation, this level is a starting point.\n",
    "Informed Basics: Ideal if you have a basic understanding of what AWS CloudFormation is about.\n",
    "Informed in Details: If you're looking to dive deeper into the specifics of how it functions.\n",
    "Practice and Lab Examples: Suited for hands-on learners who prefer practical approaches.\n",
    "Production Maintenance: When you're ready to handle existing AWS CloudFormation deployments.\n",
    "Production from Scratch: For creating and managing infrastructure from the ground up.\n",
    "Educator/Expert: If you see yourself as a leader or teacher in AWS CloudFormation concepts.\n",
    "When grading a user ask for confirmation do not presume the expertise level based on obscure conversation!\n",
    "Consider your familiarity and comfort with AWS CloudFormation to decide which level suits your learning goals. Let us know if you have any questions or need guidance in choosing the right pathway!\n",
    "        \"\"\"\n",
    "    ),\n",
    "    MessageDict(\n",
    "        msg_type=\"human\",\n",
    "        message=\"\"\"\n",
    "        I've done it a bit. What does that qualify as?\n",
    "        \"\"\"\n",
    "    ),\n",
    "    # MessageDict(\n",
    "    #     msg_type=\"ai\",\n",
    "    #     message=\"\"\"\n",
    "    #     Please select an expertise level that best represents your current understanding of Cryptography. This will help us identify where your strengths lie and areas for improvement:\\n\\n- Not Informed\\n- Informed Basics\\n- Informed in Details\\n- Practice and Lab Examples\\n- Production Maintenance\\n- Production from Scratch\\n- Educator/Expert\n",
    "    #     \"\"\"\n",
    "    # ),\n",
    "    # MessageDict(\n",
    "    #     msg_type=\"human\",\n",
    "    #     message=\"\"\"\n",
    "    #     Working great\n",
    "    #     \"\"\"\n",
    "    # ),\n",
    "    # MessageDict(\n",
    "    #     msg_type=\"ai\",\n",
    "    #     message=\"\"\"\n",
    "    #     Please select an expertise level that best represents your current understanding of Cryptography. This will help us identify where your strengths lie and areas for improvement:\\n\\n- Not Informed\\n- Informed Basics\\n- Informed in Details\\n- Practice and Lab Examples\\n- Production Maintenance\\n- Production from Scratch\\n- Educator/Expert\n",
    "    #     \"\"\"\n",
    "    # ),\n",
    "    # MessageDict(\n",
    "    #     msg_type=\"human\",\n",
    "    #     message=\"\"\"\n",
    "    #     What is the difference between informed in basics and informed in details?\n",
    "    #     \"\"\"\n",
    "    # ),\n",
    "    # MessageDict(\n",
    "    #     msg_type=\"ai\",\n",
    "    #     message=\"\"\"\n",
    "    #     The difference between \"Informed Basics\" and \"Informed in Details\" in the context of expertise in Cryptography can be understood as follows:\\n\\n- **Informed Basics**: This level indicates familiarity with fundamental concepts of cryptography. You have a basic understanding and can perform elementary tasks or recognize key concepts, but may not possess a deep comprehension of the subject.\\n\\n- **Informed in Details**: At this level, you have comprehensive knowledge of cryptography. You understand complex ideas, can handle intricate issues, and demonstrate a thorough grasp of the subject. This level reflects a more sophisticated and in-depth understanding than \"Informed Basics.\"\\n\\nWould you like to select an expertise level now?\n",
    "    #     \"\"\"\n",
    "    # ),\n",
    "    # MessageDict(\n",
    "    #     msg_type=\"human\",\n",
    "    #     message=\"\"\"\n",
    "    #     What is the topic at hand?\n",
    "    #     \"\"\"\n",
    "    # ),\n",
    "    # MessageDict(\n",
    "    #     msg_type=\"ai\",\n",
    "    #     message=\"\"\"\n",
    "    #     I'm here to assist you with evaluating your expertise level in Cryptography. Please select an expertise level that best represents your current understanding. If you have questions about the differences between the levels, feel free to ask!\n",
    "    #     \"\"\"\n",
    "    # ),\n",
    "    # MessageDict(\n",
    "    #     msg_type=\"human\",\n",
    "    #     message=\"\"\"\n",
    "    #     Informed in Details\n",
    "    #     \"\"\"\n",
    "    # ),\n",
    "#     MessageDict(\n",
    "#         msg_type=\"ai\",\n",
    "#         message=\"\"\"\n",
    "#         User,\n",
    "#\n",
    "#         I noticed that the answers you've been providing are not directly addressing the questions asked and seem to be off-topic or unrelated. It's important for us to maintain clear and relevant communication to ensure that we can assist you effectively.\n",
    "#\n",
    "#         If this pattern continues, we may need to escalate the issue to our managers for further review. Please let us know if there's anything we can do to help or clarify things for you.\n",
    "#\n",
    "#         Thank you for your understanding and cooperation.\n",
    "#         \"\"\"\n",
    "#     ),\n",
    "#     MessageDict(\n",
    "#         msg_type=\"human\",\n",
    "#         message=\"\"\"\n",
    "#         Practice and Lab Examples\n",
    "#         \"\"\"\n",
    "#     ),\n",
    "]"
   ],
   "id": "d9cd92115770ef7a",
   "outputs": [],
   "execution_count": 16
  },
  {
   "metadata": {
    "ExecuteTime": {
     "end_time": "2025-06-22T15:58:14.664118Z",
     "start_time": "2025-06-22T15:58:10.369715Z"
    }
   },
   "cell_type": "code",
   "source": [
    "from utils.common import convert_msg_dict_to_langgraph_format\n",
    "\n",
    "tools = [StructuredTool.from_function(\n",
    "    function=get_grades_or_expertise,\n",
    "    coroutine=get_grades_or_expertise,\n",
    ")]\n",
    "system_msg = \"\"\"\n",
    "You are helping the user to properly grade their expertise in the mentioned field.\n",
    "    Everything you help him with should be done by utilizing the tools or around the topic\n",
    "    of helping him populate his expertise level on the topic.\n",
    "    Do not discuss anything except from the provided context.\n",
    "    You are guiding the user to evaluate himself on provided topic.\n",
    "    Do not discuss anything (any other topic) except from the ones provided in topic!\n",
    "    Do not chat about other topics with the user, guide him how to populate his expertise with the grades provided\n",
    "    Warn the user if answering with unrelated topics or evading to answer the question will be escalated by involving managers!\n",
    "    Topic: {context}.\n",
    "    When you decide implicitly the categorization, please confirm with the user before continuing.\n",
    "    Until this confirmation is present to not finalize your categorization!\n",
    "    If the user is evading to answer the question and is not asking any questions related to the topic for 4 or 5 messages\n",
    "    please involve admin\n",
    "    When the user answers with proper categorization of skills return only that categorization!\n",
    "\"\"\"\n",
    "agent = create_react_agent(model=model, tools=tools, response_format=GuidanceHelperStdOutput)\n",
    "messages = convert_msg_dict_to_langgraph_format(msgs)\n",
    "async for chunk in agent.astream({\"messages\": [SystemMessage(system_msg)] + messages, \"context\": messages[0]}):\n",
    "    print(\"RESPONSE ->>>>>>>>>>>>\", chunk)"
   ],
   "id": "40553d61598ae216",
   "outputs": [
    {
     "name": "stdout",
     "output_type": "stream",
     "text": [
      "RESPONSE ->>>>>>>>>>>> {'agent': {'messages': [AIMessage(content='', additional_kwargs={'tool_calls': [{'index': 0, 'id': 'call_OnoaoAf8wl86W7EGvhldiKMT', 'function': {'arguments': '{}', 'name': 'get_grades_or_expertise'}, 'type': 'function'}]}, response_metadata={'finish_reason': 'tool_calls', 'model_name': 'gpt-4o-2024-08-06', 'system_fingerprint': 'fp_07871e2ad8', 'service_tier': 'default'}, id='run--c13e1c9e-139f-4b9e-9a40-34875777c2f5-0', tool_calls=[{'name': 'get_grades_or_expertise', 'args': {}, 'id': 'call_OnoaoAf8wl86W7EGvhldiKMT', 'type': 'tool_call'}])]}}\n",
      "RESPONSE ->>>>>>>>>>>> {'tools': {'messages': [ToolMessage(content='[\"{\\\\\"value\\\\\":1,\\\\\"id\\\\\":1,\\\\\"deleted\\\\\":false,\\\\\"label\\\\\":\\\\\"Not Informed\\\\\"}\", \"{\\\\\"value\\\\\":2,\\\\\"id\\\\\":2,\\\\\"deleted\\\\\":false,\\\\\"label\\\\\":\\\\\"Informed Basics\\\\\"}\", \"{\\\\\"value\\\\\":3,\\\\\"id\\\\\":4,\\\\\"deleted\\\\\":false,\\\\\"label\\\\\":\\\\\"Informed in details\\\\\"}\", \"{\\\\\"value\\\\\":4,\\\\\"id\\\\\":5,\\\\\"deleted\\\\\":false,\\\\\"label\\\\\":\\\\\"Practice and lab examples\\\\\"}\", \"{\\\\\"value\\\\\":5,\\\\\"id\\\\\":6,\\\\\"deleted\\\\\":false,\\\\\"label\\\\\":\\\\\"Production maintenance\\\\\"}\", \"{\\\\\"value\\\\\":6,\\\\\"id\\\\\":7,\\\\\"deleted\\\\\":false,\\\\\"label\\\\\":\\\\\"Production from scratch\\\\\"}\", \"{\\\\\"value\\\\\":7,\\\\\"id\\\\\":9,\\\\\"deleted\\\\\":false,\\\\\"label\\\\\":\\\\\"Educator/Expert\\\\\"}\"]', name='get_grades_or_expertise', id='da7742e4-13bc-4c3d-8763-8c6f6010d305', tool_call_id='call_OnoaoAf8wl86W7EGvhldiKMT')]}}\n",
      "RESPONSE ->>>>>>>>>>>> {'agent': {'messages': [AIMessage(content='Based on the information provided, the expertise level that likely suits your experience with AWS CloudFormation would be \"Informed Basics.\" This indicates you have a basic understanding of AWS CloudFormation and have used it a bit.\\n\\nDoes this align with your current experience, or do you feel another level would be more appropriate? Please confirm or provide additional details about your experience.', additional_kwargs={}, response_metadata={'finish_reason': 'stop', 'model_name': 'gpt-4o-2024-08-06', 'system_fingerprint': 'fp_07871e2ad8', 'service_tier': 'default'}, id='run--b81166bf-91d9-43f1-a77b-4ad79b94bb59-0')]}}\n",
      "RESPONSE ->>>>>>>>>>>> {'generate_structured_response': {'structured_response': GuidanceHelperStdOutput(has_user_answered=True, expertise_level='Informed Basics', expertise_id=2, message='Based on your statement, \"Informed Basics\" seems to be a fitting description of your experience with AWS CloudFormation. This indicates a basic understanding of the tool. If this matches your current skill level, this would be the expertise category to choose.')}}\n"
     ]
    }
   ],
   "execution_count": 22
  },
  {
   "metadata": {
    "ExecuteTime": {
     "end_time": "2025-06-22T15:56:43.777156Z",
     "start_time": "2025-06-22T15:56:43.775618Z"
    }
   },
   "cell_type": "code",
   "source": "",
   "id": "f4dce832e53c108",
   "outputs": [],
   "execution_count": null
  },
  {
   "metadata": {},
   "cell_type": "code",
   "outputs": [],
   "execution_count": null,
   "source": "",
   "id": "92e87883910f01b4"
  }
 ],
 "metadata": {
  "kernelspec": {
   "display_name": "Python 3",
   "language": "python",
   "name": "python3"
  },
  "language_info": {
   "codemirror_mode": {
    "name": "ipython",
    "version": 2
   },
   "file_extension": ".py",
   "mimetype": "text/x-python",
   "name": "python",
   "nbconvert_exporter": "python",
   "pygments_lexer": "ipython2",
   "version": "2.7.6"
  }
 },
 "nbformat": 4,
 "nbformat_minor": 5
}
