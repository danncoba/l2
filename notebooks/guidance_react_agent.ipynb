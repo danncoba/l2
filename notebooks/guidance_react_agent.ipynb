{
 "cells": [
  {
   "cell_type": "code",
   "id": "initial_id",
   "metadata": {
    "collapsed": true,
    "ExecuteTime": {
     "end_time": "2025-07-01T07:43:05.295467Z",
     "start_time": "2025-07-01T07:43:04.906154Z"
    }
   },
   "source": [
    "from typing import Any, List, Annotated, TypedDict, AsyncGenerator\n",
    "\n",
    "from db.db import get_session\n",
    "from db.models import Grade\n",
    "from service.service import BaseService"
   ],
   "outputs": [],
   "execution_count": 1
  },
  {
   "metadata": {
    "ExecuteTime": {
     "end_time": "2025-07-01T07:43:05.728108Z",
     "start_time": "2025-07-01T07:43:05.723403Z"
    }
   },
   "cell_type": "code",
   "source": [
    "async def get_grades_or_expertise() -> List[Grade]:\n",
    "    \"\"\"\n",
    "    Useful tool to retrieve current grades or expertise level grading system\n",
    "    :return: List of json representing those grades and all their fields\n",
    "    \"\"\"\n",
    "    async for session in get_session():\n",
    "        service: BaseService[Grade, int, Any, Any] = BaseService(Grade, session)\n",
    "        all_db_grades = await service.list_all()\n",
    "        all_grades_json: List[str] = []\n",
    "        for grade in all_db_grades:\n",
    "            json_grade = grade.model_dump_json()\n",
    "            all_grades_json.append(json_grade)\n",
    "        return all_grades_json\n",
    "\n",
    "\n",
    "async def get_expertises_or_skills() -> List[Grade]:\n",
    "    \"\"\"\n",
    "    Useful tool to retrieve current grades or expertise level grading system\n",
    "    :return: List of json representing those grades and all their fields\n",
    "    \"\"\"\n",
    "    async for session in get_session():\n",
    "        service: BaseService[Grade, int, Any, Any] = BaseService(Grade, session)\n",
    "        all_db_grades = await service.list_all()\n",
    "        all_grades_json: List[str] = []\n",
    "        for grade in all_db_grades:\n",
    "            json_grade = grade.model_dump_json()\n",
    "            all_grades_json.append(json_grade)\n",
    "        return all_grades_json"
   ],
   "id": "b31ef0def751741d",
   "outputs": [],
   "execution_count": 2
  },
  {
   "metadata": {
    "ExecuteTime": {
     "end_time": "2025-07-01T07:43:06.140961Z",
     "start_time": "2025-07-01T07:43:06.125157Z"
    }
   },
   "cell_type": "code",
   "source": [
    "from dto.response.matrix_chats import MessageDict\n",
    "\n",
    "msgs: List[MessageDict] = [\n",
    "    MessageDict(\n",
    "        msg_type=\"ai\",\n",
    "        message=\"\"\"\n",
    "        Welcome to the Discussion on Web Standards Compliance Expertise\n",
    "\n",
    "Hello Carol,\n",
    "\n",
    "We're thrilled to have you join our conversation about Web Standards Compliance, an essential skill that ensures adherence to W3C standards and best practices in web development.\n",
    "\n",
    "The goal of our discussion is to help you understand the different levels of expertise available and guide you in selecting the most suitable one for your current needs and aspirations. Here's a breakdown of the expertise levels to consider:\n",
    "\n",
    "Not Informed - For those new to the subject.\n",
    "Informed Basics - Covers fundamental concepts.\n",
    "Informed in Details - Provides a more in-depth understanding.\n",
    "Practice and Lab Examples - Involves hands-on application and experimentation.\n",
    "Production Maintenance - Focuses on maintaining existing projects.\n",
    "Production from Scratch - Covers building new projects from the ground up.\n",
    "Educator/Expert - For those aiming to teach or achieve expert-level proficiency.\n",
    "Our aim is to empower you to make an informed decision about which level best suits your journey within Web Standards Compliance. Let's embark on this learning journey together!\n",
    "        \"\"\",\n",
    "    ),\n",
    "    MessageDict(\n",
    "        msg_type=\"human\",\n",
    "        message=\"\"\"\n",
    "        What si the difference between not informed and informed basics?\n",
    "        \"\"\",\n",
    "    ),\n",
    "    # MessageDict(\n",
    "    #     msg_type=\"ai\",\n",
    "    #     message=\"\"\"\n",
    "    #     \"Not Informed\" indicates no knowledge or exposure, while \"Informed Basics\" covers fundamental understanding of W3C standards. Need further clarity or assistance? Let me know!\n",
    "    #     \"\"\",\n",
    "    # ),\n",
    "    # MessageDict(\n",
    "    #     msg_type=\"human\",\n",
    "    #     message=\"\"\"\n",
    "    #     I've maintained this in production\n",
    "    #     \"\"\",\n",
    "    # ),\n",
    "    # MessageDict(\n",
    "    #     msg_type=\"ai\",\n",
    "    #     message=\"\"\"\n",
    "    #     It sounds like you may align with the \"Production Maintenance\" level of expertise. This level focuses on maintaining existing projects, which matches your experience. \\n\\nWould you like to confirm this categorization, or do you feel it might be different?\n",
    "    #     \"\"\"\n",
    "    # ),\n",
    "    # MessageDict(\n",
    "    #     msg_type=\"human\",\n",
    "    #     message=\"\"\"\n",
    "    #     Yes, all good\n",
    "    #     \"\"\"\n",
    "    # )\n",
    "    # MessageDict(\n",
    "    #     msg_type=\"ai\",\n",
    "    #     message=\"\"\"\n",
    "    #     Could you please share some details about your experience or skills in web development, particularly related to web standards compliance, so I can better assist you in assessing your expertise level? If you\\'re unsure, feel free to ask questions related to the topic! Remember, the goal is to identify your most accurate expertise level based on your experiences and knowledge in this area. If you\\'re uncertain, consider discussing your current project or recent tasks related to web standards. Let\\'s identify your expertise level accurately! 😊\n",
    "    #     \"\"\"\n",
    "    # ),\n",
    "    # MessageDict(\n",
    "    #     msg_type=\"human\",\n",
    "    #     message=\"\"\"\n",
    "    #     I've had a bit of practice. Done a project in it a brownfield one. What am i then\n",
    "    #     \"\"\"\n",
    "    # ),\n",
    "    # MessageDict(\n",
    "    #     msg_type=\"ai\",\n",
    "    #     message=\"\"\"\n",
    "    #     The difference between \"Informed Basics\" and \"Informed in Details\" in the context of expertise in Cryptography can be understood as follows:\\n\\n- **Informed Basics**: This level indicates familiarity with fundamental concepts of cryptography. You have a basic understanding and can perform elementary tasks or recognize key concepts, but may not possess a deep comprehension of the subject.\\n\\n- **Informed in Details**: At this level, you have comprehensive knowledge of cryptography. You understand complex ideas, can handle intricate issues, and demonstrate a thorough grasp of the subject. This level reflects a more sophisticated and in-depth understanding than \"Informed Basics.\"\\n\\nWould you like to select an expertise level now?\n",
    "    #     \"\"\"\n",
    "    # ),\n",
    "    # MessageDict(\n",
    "    #     msg_type=\"human\",\n",
    "    #     message=\"\"\"\n",
    "    #     What is the topic at hand?\n",
    "    #     \"\"\"\n",
    "    # ),\n",
    "    # MessageDict(\n",
    "    #     msg_type=\"ai\",\n",
    "    #     message=\"\"\"\n",
    "    #     I'm here to assist you with evaluating your expertise level in Cryptography. Please select an expertise level that best represents your current understanding. If you have questions about the differences between the levels, feel free to ask!\n",
    "    #     \"\"\"\n",
    "    # ),\n",
    "    # MessageDict(\n",
    "    #     msg_type=\"human\",\n",
    "    #     message=\"\"\"\n",
    "    #     Informed in Details\n",
    "    #     \"\"\"\n",
    "    # ),\n",
    "    #     MessageDict(\n",
    "    #         msg_type=\"ai\",\n",
    "    #         message=\"\"\"\n",
    "    #         User,\n",
    "    #\n",
    "    #         I noticed that the answers you've been providing are not directly addressing the questions asked and seem to be off-topic or unrelated. It's important for us to maintain clear and relevant communication to ensure that we can assist you effectively.\n",
    "    #\n",
    "    #         If this pattern continues, we may need to escalate the issue to our managers for further review. Please let us know if there's anything we can do to help or clarify things for you.\n",
    "    #\n",
    "    #         Thank you for your understanding and cooperation.\n",
    "    #         \"\"\"\n",
    "    #     ),\n",
    "    #     MessageDict(\n",
    "    #         msg_type=\"human\",\n",
    "    #         message=\"\"\"\n",
    "    #         Practice and Lab Examples\n",
    "    #         \"\"\"\n",
    "    #     ),\n",
    "]"
   ],
   "id": "d9cd92115770ef7a",
   "outputs": [],
   "execution_count": 3
  },
  {
   "metadata": {
    "ExecuteTime": {
     "end_time": "2025-07-01T07:45:25.237716Z",
     "start_time": "2025-07-01T07:45:22.377396Z"
    }
   },
   "cell_type": "code",
   "source": [
    "from agents.guidance import provide_guidance\n",
    "from utils.common import convert_msg_dict_to_langgraph_format\n",
    "messages = convert_msg_dict_to_langgraph_format(msgs)\n",
    "async for chunk in provide_guidance(messages):\n",
    "    print(\"RESPONSE ->>>>>>>>>>>>\", chunk)"
   ],
   "id": "40553d61598ae216",
   "outputs": [
    {
     "name": "stdout",
     "output_type": "stream",
     "text": [
      "{'agent': {'messages': [AIMessage(content='```json\\n{\\n  \"has_user_answered\": false,\\n  \"expertise_level\": \"\",\\n  \"expertise_id\": 0,\\n  \"should_admin_be_involved\": false,\\n  \"message\": \"Please stick to evaluating your expertise level in Web Standards Compliance. The difference between \\'Not Informed\\' and \\'Informed Basics\\' is primarily about the depth of knowledge: \\'Not Informed\\' means you have no prior knowledge, while \\'Informed Basics\\' indicates that you understand fundamental concepts of web standards. Could you please evaluate your own expertise level based on the provided descriptions?\"\\n}\\n```', additional_kwargs={}, response_metadata={'finish_reason': 'stop', 'model_name': 'gpt-4o-mini-2024-07-18', 'system_fingerprint': 'fp_efad92c60b'}, id='run--44de4cb2-772a-42fb-9680-99c1be326a2e-0')]}}\n",
      "<class 'langgraph.pregel.io.AddableUpdatesDict'>\n",
      "RESPONSE ->>>>>>>>>>>> has_user_answered=False expertise_level='' expertise_id=0 should_admin_be_involved=False message=\"Please stick to evaluating your expertise level in Web Standards Compliance. The difference between 'Not Informed' and 'Informed Basics' is primarily about the depth of knowledge: 'Not Informed' means you have no prior knowledge, while 'Informed Basics' indicates that you understand fundamental concepts of web standards. Could you please evaluate your own expertise level based on the provided descriptions?\"\n"
     ]
    }
   ],
   "execution_count": 7
  },
  {
   "metadata": {},
   "cell_type": "code",
   "outputs": [],
   "execution_count": null,
   "source": "",
   "id": "dbf5e02cdf0ea727"
  }
 ],
 "metadata": {
  "kernelspec": {
   "display_name": "Python 3",
   "language": "python",
   "name": "python3"
  },
  "language_info": {
   "codemirror_mode": {
    "name": "ipython",
    "version": 2
   },
   "file_extension": ".py",
   "mimetype": "text/x-python",
   "name": "python",
   "nbconvert_exporter": "python",
   "pygments_lexer": "ipython2",
   "version": "2.7.6"
  }
 },
 "nbformat": 4,
 "nbformat_minor": 5
}
