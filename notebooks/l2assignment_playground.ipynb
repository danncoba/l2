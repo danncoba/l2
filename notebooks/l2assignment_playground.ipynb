{
 "cells": [
  {
   "cell_type": "code",
   "id": "initial_id",
   "metadata": {
    "collapsed": true,
    "ExecuteTime": {
     "end_time": "2025-06-16T11:03:38.607338Z",
     "start_time": "2025-06-16T11:03:38.067857Z"
    }
   },
   "source": [
    "import os\n",
    "from typing import TypedDict, Annotated, Optional, Literal, Any\n",
    "from IPython.display import display, Image\n",
    "\n",
    "from pydantic import BaseModel\n",
    "from dotenv import load_dotenv\n",
    "from langgraph.graph import StateGraph, START, END\n",
    "from langgraph.graph import add_messages\n",
    "from langchain_openai import ChatOpenAI\n",
    "from langchain_core.messages import HumanMessage, AIMessage, SystemMessage, BaseMessage\n",
    "from langchain_core.prompts import ChatPromptTemplate"
   ],
   "outputs": [],
   "execution_count": 1
  },
  {
   "metadata": {
    "ExecuteTime": {
     "end_time": "2025-06-16T11:03:38.618413Z",
     "start_time": "2025-06-16T11:03:38.615689Z"
    }
   },
   "cell_type": "code",
   "source": [
    "load_dotenv()\n",
    "\n",
    "LITE_LLM_API_KEY = os.getenv(\"OPENAI_API_KEY\")\n",
    "LITE_LLM_URL = os.getenv(\"OPENAI_BASE_URL\")\n",
    "LITE_MODEL = os.getenv(\"OPENAI_MODEL\")"
   ],
   "id": "32669f38e9f6b83",
   "outputs": [],
   "execution_count": 2
  },
  {
   "metadata": {
    "ExecuteTime": {
     "end_time": "2025-06-16T11:03:39.443959Z",
     "start_time": "2025-06-16T11:03:39.295606Z"
    }
   },
   "cell_type": "code",
   "source": "model = ChatOpenAI(model=LITE_MODEL, api_key=LITE_LLM_API_KEY, base_url=LITE_LLM_URL)",
   "id": "a9ffa2bcb3800dc3",
   "outputs": [],
   "execution_count": 3
  },
  {
   "metadata": {
    "ExecuteTime": {
     "end_time": "2025-06-16T11:03:39.845222Z",
     "start_time": "2025-06-16T11:03:39.842149Z"
    }
   },
   "cell_type": "code",
   "source": [
    "class SpellcheckBase(BaseModel):\n",
    "    spelling: str\n",
    "    corrected_spelling: str\n",
    "    correction_applied: bool\n",
    "\n",
    "\n",
    "class ReasonerOutputBase(BaseModel):\n",
    "    classification: str\n",
    "    classification_explanation: str\n",
    "    certainty_level: int"
   ],
   "id": "813d774aca152797",
   "outputs": [],
   "execution_count": 4
  },
  {
   "metadata": {
    "ExecuteTime": {
     "end_time": "2025-06-16T11:03:41.115822Z",
     "start_time": "2025-06-16T11:03:41.104702Z"
    }
   },
   "cell_type": "code",
   "source": [
    "class ReasonerState(TypedDict):\n",
    "    messages: Annotated[list, add_messages]\n",
    "    spellcheck_response: Optional[SpellcheckBase]\n",
    "    reasoner_response: Optional[ReasonerOutputBase]\n",
    "\n",
    "\n",
    "class ClassifierState(TypedDict):\n",
    "    msgs: Annotated[list, add_messages]\n",
    "    finished_state: Optional[str]\n",
    "\n",
    "\n",
    "classifier_builder = StateGraph(ClassifierState)\n",
    "\n",
    "\n",
    "def reasoner(state: ClassifierState) -> ClassifierState:\n",
    "    message = ChatPromptTemplate.from_messages(\n",
    "        (\n",
    "            \"system\",\n",
    "            \"\"\"Based on the user question you need to categorize into one of the following state of mind categories!\n",
    "            Respond only with the category of the emotion!\n",
    "            \"\"\",\n",
    "        )\n",
    "    )\n",
    "    msg = message.format()\n",
    "    model_structured = model.with_structured_output(ReasonerOutputBase)\n",
    "    response = model_structured.invoke(state[\"msgs\"] + [msg])\n",
    "    return {\"msgs\": [AIMessage(response.classification)], \"finished_state\": None}\n",
    "\n",
    "\n",
    "def reflect(state: ClassifierState) -> ClassifierState:\n",
    "    input_val = state[\"msgs\"][-2].content\n",
    "    predicted_state = state[\"msgs\"][-1].content\n",
    "    prompt_template = ChatPromptTemplate.from_template(\n",
    "        \"\"\"\n",
    "        You are a psychologist who get's a an users message and predicted emotional state of the individual.\n",
    "        Your task is to lightly critique the prediction until you are satisfied that the\n",
    "        correct emotional state is predicted!\n",
    "        Be short with your explanations!\n",
    "        If you agree with correct prediction respond with exactly \"finish\" without any explanations!\n",
    "        Users message: {msg}\n",
    "        Predicted emotional state: {state}\n",
    "        \"\"\"\n",
    "    )\n",
    "    prompt = prompt_template.invoke({\"state\": predicted_state, \"msg\": input_val})\n",
    "    print(\"***prompt reasoner***\", prompt)\n",
    "    response = model.invoke(prompt)\n",
    "    return {\"msgs\": [HumanMessage(response.content)], \"finished_state\": None}\n",
    "\n",
    "\n",
    "def correct_found(state: ClassifierState) -> Literal[\"reasoner\", \"finish\"]:\n",
    "    if state[\"msgs\"][-1].content == \"finish\":\n",
    "        return \"finish\"\n",
    "    return \"reasoner\"\n",
    "\n",
    "\n",
    "def finish(state: ClassifierState) -> ClassifierState:\n",
    "    finished_state = state[\"msgs\"][-2].content\n",
    "    return {\"msgs\": state[\"msgs\"], \"finished_state\": finished_state}\n",
    "\n",
    "\n",
    "classifier_builder.add_node(\"reasoner\", reasoner)\n",
    "classifier_builder.add_node(\"reflect\", reflect)\n",
    "classifier_builder.add_node(\"finish\", finish)\n",
    "classifier_builder.add_edge(START, \"reasoner\")\n",
    "classifier_builder.add_edge(\"reasoner\", \"reflect\")\n",
    "classifier_builder.add_conditional_edges(\"reflect\", correct_found)\n",
    "classifier_builder.add_edge(\"reflect\", END)\n",
    "\n",
    "classify = classifier_builder.compile()\n",
    "\n",
    "\n",
    "builder = StateGraph(ReasonerState)\n",
    "\n",
    "\n",
    "def spellchecker(state: ReasonerState) -> ReasonerState:\n",
    "    prompt_template = ChatPromptTemplate.from_template(\n",
    "        \"\"\"\n",
    "        Spellcheck the users input. Do not explain yourself or add any other content!\n",
    "        Respond only with the corrected full version of text. If no corrections have happened pass original text!\n",
    "\n",
    "        Input: {input}\n",
    "        \"\"\"\n",
    "    )\n",
    "    model_structured = model.with_structured_output(SpellcheckBase)\n",
    "    prompt = prompt_template.invoke({\"input\": state[\"messages\"][0].content})\n",
    "    response = model_structured.invoke(prompt)\n",
    "    return {\n",
    "        \"messages\": [],\n",
    "        \"spellcheck_response\": response,\n",
    "        \"reasoner_response\": None,\n",
    "    }\n",
    "\n",
    "\n",
    "def deeply_classify(state: ReasonerState) -> ReasonerState:\n",
    "    msg = None\n",
    "    for class_chunk in classify.stream(\n",
    "        {\"msgs\": state[\"messages\"], \"finished_state\": None}\n",
    "    ):\n",
    "        print(\"CLASSIFICATION CHUNK ->\", class_chunk)\n",
    "        if class_chunk[\"finished_state\"] is not None:\n",
    "            msg = class_chunk[\"finished_state\"]\n",
    "\n",
    "    return {\n",
    "        \"messages\": [AIMessage(msg)],\n",
    "        \"spellcheck_response\": state[\"spellcheck_response\"],\n",
    "        \"reasoner_response\": state[\"reasoner_response\"],\n",
    "    }\n",
    "\n",
    "\n",
    "def reasoner(state: ReasonerState) -> ReasonerState:\n",
    "    response = model.invoke(\n",
    "        state[\"messages\"]\n",
    "        + [\n",
    "            \"Summarize the conversation and say the final emotional state. Do not explain yourself and prolong the conversation!\"\n",
    "        ]\n",
    "    )\n",
    "    return {\n",
    "        \"messages\": [response.content],\n",
    "        \"spellcheck_response\": state[\"spellcheck_response\"],\n",
    "        \"reasoner_response\": state[\"reasoner_response\"],\n",
    "    }"
   ],
   "id": "106b15704f923256",
   "outputs": [],
   "execution_count": 5
  },
  {
   "metadata": {
    "ExecuteTime": {
     "end_time": "2025-06-16T11:03:41.675921Z",
     "start_time": "2025-06-16T11:03:41.670625Z"
    }
   },
   "cell_type": "code",
   "source": [
    "builder.add_node(\"spellchecker\", spellchecker)\n",
    "builder.add_node(\"deeply_classify\", deeply_classify)\n",
    "builder.add_node(\"reasoner\", reasoner)\n",
    "builder.add_edge(START, \"spellchecker\")\n",
    "builder.add_edge(\"spellchecker\", \"deeply_classify\")\n",
    "builder.add_edge(\"deeply_classify\", \"reasoner\")\n",
    "builder.add_edge(\"reasoner\", END)"
   ],
   "id": "6ab2ed4cd33d320c",
   "outputs": [
    {
     "data": {
      "text/plain": [
       "<langgraph.graph.state.StateGraph at 0x12742e990>"
      ]
     },
     "execution_count": 6,
     "metadata": {},
     "output_type": "execute_result"
    }
   ],
   "execution_count": 6
  },
  {
   "metadata": {
    "ExecuteTime": {
     "end_time": "2025-06-16T11:03:59.657120Z",
     "start_time": "2025-06-16T11:03:42.637190Z"
    }
   },
   "cell_type": "code",
   "source": [
    "graph = builder.compile()\n",
    "for chunk in graph.stream({\"messages\": [\"Jesus Christ!\"]}):\n",
    "    print(chunk)"
   ],
   "id": "9096d4c2a9ca64a0",
   "outputs": [
    {
     "name": "stdout",
     "output_type": "stream",
     "text": [
      "{'spellchecker': {'messages': [], 'spellcheck_response': SpellcheckBase(spelling='Jesus Christ!', corrected_spelling='Jesus Christ!', correction_applied=False), 'reasoner_response': None}}\n",
      "CLASSIFICATION CHUNK -> {'msgs': [HumanMessage(content='Jesus Christ!', additional_kwargs={}, response_metadata={}, id='34851992-a57b-4cfe-811f-f8113b632855')], 'finished_state': None}\n",
      "CLASSIFICATION CHUNK -> {'msgs': [HumanMessage(content='Jesus Christ!', additional_kwargs={}, response_metadata={}, id='34851992-a57b-4cfe-811f-f8113b632855'), AIMessage(content='surprise', additional_kwargs={}, response_metadata={}, id='4e6fee4d-9b7a-47e5-a7c3-aa06066ab4cd')], 'finished_state': None}\n",
      "***prompt reasoner*** messages=[HumanMessage(content='\\n        You are a psychologist who get\\'s a an users message and predicted emotional state of the individual.\\n        Your task is to lightly critique the prediction until you are satisfied that the\\n        correct emotional state is predicted!\\n        Be short with your explanations!\\n        If you agree with correct prediction respond with exactly \"finish\" without any explanations!\\n        Users message: Jesus Christ!\\n        Predicted emotional state: surprise\\n        ', additional_kwargs={}, response_metadata={})]\n",
      "CLASSIFICATION CHUNK -> {'msgs': [HumanMessage(content='Jesus Christ!', additional_kwargs={}, response_metadata={}, id='34851992-a57b-4cfe-811f-f8113b632855'), AIMessage(content='surprise', additional_kwargs={}, response_metadata={}, id='4e6fee4d-9b7a-47e5-a7c3-aa06066ab4cd'), HumanMessage(content='The predicted emotional state of \"surprise\" seems reasonable given the exclamation. However, it could also indicate frustration or exasperation, depending on context. Let\\'s consider the possibility of other emotions. \\n\\nRe-evaluate: Is there more context to understand if this expression is purely surprise or something more intense? \\n\\nIf this is in reaction to something unexpected that is positive, surprise stands, but if it\\'s negative, frustration could fit better. \\n\\nWhat do you think?', additional_kwargs={}, response_metadata={}, id='40826d0c-bdca-4158-91b5-161a5e79bf87')], 'finished_state': None}\n",
      "CLASSIFICATION CHUNK -> {'msgs': [HumanMessage(content='Jesus Christ!', additional_kwargs={}, response_metadata={}, id='34851992-a57b-4cfe-811f-f8113b632855'), AIMessage(content='surprise', additional_kwargs={}, response_metadata={}, id='4e6fee4d-9b7a-47e5-a7c3-aa06066ab4cd'), HumanMessage(content='The predicted emotional state of \"surprise\" seems reasonable given the exclamation. However, it could also indicate frustration or exasperation, depending on context. Let\\'s consider the possibility of other emotions. \\n\\nRe-evaluate: Is there more context to understand if this expression is purely surprise or something more intense? \\n\\nIf this is in reaction to something unexpected that is positive, surprise stands, but if it\\'s negative, frustration could fit better. \\n\\nWhat do you think?', additional_kwargs={}, response_metadata={}, id='40826d0c-bdca-4158-91b5-161a5e79bf87'), AIMessage(content='Surprise', additional_kwargs={}, response_metadata={}, id='fa7b1407-ede7-4344-b854-eeef6403fdb3')], 'finished_state': None}\n",
      "***prompt reasoner*** messages=[HumanMessage(content='\\n        You are a psychologist who get\\'s a an users message and predicted emotional state of the individual.\\n        Your task is to lightly critique the prediction until you are satisfied that the\\n        correct emotional state is predicted!\\n        Be short with your explanations!\\n        If you agree with correct prediction respond with exactly \"finish\" without any explanations!\\n        Users message: The predicted emotional state of \"surprise\" seems reasonable given the exclamation. However, it could also indicate frustration or exasperation, depending on context. Let\\'s consider the possibility of other emotions. \\n\\nRe-evaluate: Is there more context to understand if this expression is purely surprise or something more intense? \\n\\nIf this is in reaction to something unexpected that is positive, surprise stands, but if it\\'s negative, frustration could fit better. \\n\\nWhat do you think?\\n        Predicted emotional state: Surprise\\n        ', additional_kwargs={}, response_metadata={})]\n",
      "CLASSIFICATION CHUNK -> {'msgs': [HumanMessage(content='Jesus Christ!', additional_kwargs={}, response_metadata={}, id='34851992-a57b-4cfe-811f-f8113b632855'), AIMessage(content='surprise', additional_kwargs={}, response_metadata={}, id='4e6fee4d-9b7a-47e5-a7c3-aa06066ab4cd'), HumanMessage(content='The predicted emotional state of \"surprise\" seems reasonable given the exclamation. However, it could also indicate frustration or exasperation, depending on context. Let\\'s consider the possibility of other emotions. \\n\\nRe-evaluate: Is there more context to understand if this expression is purely surprise or something more intense? \\n\\nIf this is in reaction to something unexpected that is positive, surprise stands, but if it\\'s negative, frustration could fit better. \\n\\nWhat do you think?', additional_kwargs={}, response_metadata={}, id='40826d0c-bdca-4158-91b5-161a5e79bf87'), AIMessage(content='Surprise', additional_kwargs={}, response_metadata={}, id='fa7b1407-ede7-4344-b854-eeef6403fdb3'), HumanMessage(content='The prediction of \"surprise\" is valid, but I agree that frustration or exasperation could also be relevant given the tone and possible negative context. Without additional context, we cannot definitively conclude the emotional state. It\\'s essential to consider the nature of the unexpected event. Re-evaluate the emotional state as it might lean towards frustration if the source is negative. \\n\\nWhat do you think?', additional_kwargs={}, response_metadata={}, id='b01e0f9d-ff07-4829-a04d-f4ad887211d9')], 'finished_state': None}\n",
      "CLASSIFICATION CHUNK -> {'msgs': [HumanMessage(content='Jesus Christ!', additional_kwargs={}, response_metadata={}, id='34851992-a57b-4cfe-811f-f8113b632855'), AIMessage(content='surprise', additional_kwargs={}, response_metadata={}, id='4e6fee4d-9b7a-47e5-a7c3-aa06066ab4cd'), HumanMessage(content='The predicted emotional state of \"surprise\" seems reasonable given the exclamation. However, it could also indicate frustration or exasperation, depending on context. Let\\'s consider the possibility of other emotions. \\n\\nRe-evaluate: Is there more context to understand if this expression is purely surprise or something more intense? \\n\\nIf this is in reaction to something unexpected that is positive, surprise stands, but if it\\'s negative, frustration could fit better. \\n\\nWhat do you think?', additional_kwargs={}, response_metadata={}, id='40826d0c-bdca-4158-91b5-161a5e79bf87'), AIMessage(content='Surprise', additional_kwargs={}, response_metadata={}, id='fa7b1407-ede7-4344-b854-eeef6403fdb3'), HumanMessage(content='The prediction of \"surprise\" is valid, but I agree that frustration or exasperation could also be relevant given the tone and possible negative context. Without additional context, we cannot definitively conclude the emotional state. It\\'s essential to consider the nature of the unexpected event. Re-evaluate the emotional state as it might lean towards frustration if the source is negative. \\n\\nWhat do you think?', additional_kwargs={}, response_metadata={}, id='b01e0f9d-ff07-4829-a04d-f4ad887211d9'), AIMessage(content='Frustration', additional_kwargs={}, response_metadata={}, id='093a978b-c8d1-46db-a549-fd1a4884883b')], 'finished_state': None}\n",
      "***prompt reasoner*** messages=[HumanMessage(content='\\n        You are a psychologist who get\\'s a an users message and predicted emotional state of the individual.\\n        Your task is to lightly critique the prediction until you are satisfied that the\\n        correct emotional state is predicted!\\n        Be short with your explanations!\\n        If you agree with correct prediction respond with exactly \"finish\" without any explanations!\\n        Users message: The prediction of \"surprise\" is valid, but I agree that frustration or exasperation could also be relevant given the tone and possible negative context. Without additional context, we cannot definitively conclude the emotional state. It\\'s essential to consider the nature of the unexpected event. Re-evaluate the emotional state as it might lean towards frustration if the source is negative. \\n\\nWhat do you think?\\n        Predicted emotional state: Frustration\\n        ', additional_kwargs={}, response_metadata={})]\n",
      "CLASSIFICATION CHUNK -> {'msgs': [HumanMessage(content='Jesus Christ!', additional_kwargs={}, response_metadata={}, id='34851992-a57b-4cfe-811f-f8113b632855'), AIMessage(content='surprise', additional_kwargs={}, response_metadata={}, id='4e6fee4d-9b7a-47e5-a7c3-aa06066ab4cd'), HumanMessage(content='The predicted emotional state of \"surprise\" seems reasonable given the exclamation. However, it could also indicate frustration or exasperation, depending on context. Let\\'s consider the possibility of other emotions. \\n\\nRe-evaluate: Is there more context to understand if this expression is purely surprise or something more intense? \\n\\nIf this is in reaction to something unexpected that is positive, surprise stands, but if it\\'s negative, frustration could fit better. \\n\\nWhat do you think?', additional_kwargs={}, response_metadata={}, id='40826d0c-bdca-4158-91b5-161a5e79bf87'), AIMessage(content='Surprise', additional_kwargs={}, response_metadata={}, id='fa7b1407-ede7-4344-b854-eeef6403fdb3'), HumanMessage(content='The prediction of \"surprise\" is valid, but I agree that frustration or exasperation could also be relevant given the tone and possible negative context. Without additional context, we cannot definitively conclude the emotional state. It\\'s essential to consider the nature of the unexpected event. Re-evaluate the emotional state as it might lean towards frustration if the source is negative. \\n\\nWhat do you think?', additional_kwargs={}, response_metadata={}, id='b01e0f9d-ff07-4829-a04d-f4ad887211d9'), AIMessage(content='Frustration', additional_kwargs={}, response_metadata={}, id='093a978b-c8d1-46db-a549-fd1a4884883b'), HumanMessage(content='While \"frustration\" is a valid prediction, the user\\'s acknowledgment of \"surprise\" indicates that there\\'s an element of unexpectedness at play. This suggests that the overall emotional state may not solely lean towards frustration, especially if the surprise itself is ambiguous. It\\'s important to consider both emotions together. Re-evaluating could lead to a prediction that incorporates both surprise and frustration, depending on the context provided. \\n\\nSo, I think the predicted state of \"frustration\" should perhaps include some aspect of \"surprise.\" \\n\\nReconsider the prediction!', additional_kwargs={}, response_metadata={}, id='e481b6b5-195c-4777-9814-7d4fae9c0732')], 'finished_state': None}\n",
      "CLASSIFICATION CHUNK -> {'msgs': [HumanMessage(content='Jesus Christ!', additional_kwargs={}, response_metadata={}, id='34851992-a57b-4cfe-811f-f8113b632855'), AIMessage(content='surprise', additional_kwargs={}, response_metadata={}, id='4e6fee4d-9b7a-47e5-a7c3-aa06066ab4cd'), HumanMessage(content='The predicted emotional state of \"surprise\" seems reasonable given the exclamation. However, it could also indicate frustration or exasperation, depending on context. Let\\'s consider the possibility of other emotions. \\n\\nRe-evaluate: Is there more context to understand if this expression is purely surprise or something more intense? \\n\\nIf this is in reaction to something unexpected that is positive, surprise stands, but if it\\'s negative, frustration could fit better. \\n\\nWhat do you think?', additional_kwargs={}, response_metadata={}, id='40826d0c-bdca-4158-91b5-161a5e79bf87'), AIMessage(content='Surprise', additional_kwargs={}, response_metadata={}, id='fa7b1407-ede7-4344-b854-eeef6403fdb3'), HumanMessage(content='The prediction of \"surprise\" is valid, but I agree that frustration or exasperation could also be relevant given the tone and possible negative context. Without additional context, we cannot definitively conclude the emotional state. It\\'s essential to consider the nature of the unexpected event. Re-evaluate the emotional state as it might lean towards frustration if the source is negative. \\n\\nWhat do you think?', additional_kwargs={}, response_metadata={}, id='b01e0f9d-ff07-4829-a04d-f4ad887211d9'), AIMessage(content='Frustration', additional_kwargs={}, response_metadata={}, id='093a978b-c8d1-46db-a549-fd1a4884883b'), HumanMessage(content='While \"frustration\" is a valid prediction, the user\\'s acknowledgment of \"surprise\" indicates that there\\'s an element of unexpectedness at play. This suggests that the overall emotional state may not solely lean towards frustration, especially if the surprise itself is ambiguous. It\\'s important to consider both emotions together. Re-evaluating could lead to a prediction that incorporates both surprise and frustration, depending on the context provided. \\n\\nSo, I think the predicted state of \"frustration\" should perhaps include some aspect of \"surprise.\" \\n\\nReconsider the prediction!', additional_kwargs={}, response_metadata={}, id='e481b6b5-195c-4777-9814-7d4fae9c0732'), AIMessage(content='Surprise and Frustration', additional_kwargs={}, response_metadata={}, id='dd9feef3-503e-459a-9e1c-3340582858ad')], 'finished_state': None}\n",
      "***prompt reasoner*** messages=[HumanMessage(content='\\n        You are a psychologist who get\\'s a an users message and predicted emotional state of the individual.\\n        Your task is to lightly critique the prediction until you are satisfied that the\\n        correct emotional state is predicted!\\n        Be short with your explanations!\\n        If you agree with correct prediction respond with exactly \"finish\" without any explanations!\\n        Users message: While \"frustration\" is a valid prediction, the user\\'s acknowledgment of \"surprise\" indicates that there\\'s an element of unexpectedness at play. This suggests that the overall emotional state may not solely lean towards frustration, especially if the surprise itself is ambiguous. It\\'s important to consider both emotions together. Re-evaluating could lead to a prediction that incorporates both surprise and frustration, depending on the context provided. \\n\\nSo, I think the predicted state of \"frustration\" should perhaps include some aspect of \"surprise.\" \\n\\nReconsider the prediction!\\n        Predicted emotional state: Surprise and Frustration\\n        ', additional_kwargs={}, response_metadata={})]\n",
      "CLASSIFICATION CHUNK -> {'msgs': [HumanMessage(content='Jesus Christ!', additional_kwargs={}, response_metadata={}, id='34851992-a57b-4cfe-811f-f8113b632855'), AIMessage(content='surprise', additional_kwargs={}, response_metadata={}, id='4e6fee4d-9b7a-47e5-a7c3-aa06066ab4cd'), HumanMessage(content='The predicted emotional state of \"surprise\" seems reasonable given the exclamation. However, it could also indicate frustration or exasperation, depending on context. Let\\'s consider the possibility of other emotions. \\n\\nRe-evaluate: Is there more context to understand if this expression is purely surprise or something more intense? \\n\\nIf this is in reaction to something unexpected that is positive, surprise stands, but if it\\'s negative, frustration could fit better. \\n\\nWhat do you think?', additional_kwargs={}, response_metadata={}, id='40826d0c-bdca-4158-91b5-161a5e79bf87'), AIMessage(content='Surprise', additional_kwargs={}, response_metadata={}, id='fa7b1407-ede7-4344-b854-eeef6403fdb3'), HumanMessage(content='The prediction of \"surprise\" is valid, but I agree that frustration or exasperation could also be relevant given the tone and possible negative context. Without additional context, we cannot definitively conclude the emotional state. It\\'s essential to consider the nature of the unexpected event. Re-evaluate the emotional state as it might lean towards frustration if the source is negative. \\n\\nWhat do you think?', additional_kwargs={}, response_metadata={}, id='b01e0f9d-ff07-4829-a04d-f4ad887211d9'), AIMessage(content='Frustration', additional_kwargs={}, response_metadata={}, id='093a978b-c8d1-46db-a549-fd1a4884883b'), HumanMessage(content='While \"frustration\" is a valid prediction, the user\\'s acknowledgment of \"surprise\" indicates that there\\'s an element of unexpectedness at play. This suggests that the overall emotional state may not solely lean towards frustration, especially if the surprise itself is ambiguous. It\\'s important to consider both emotions together. Re-evaluating could lead to a prediction that incorporates both surprise and frustration, depending on the context provided. \\n\\nSo, I think the predicted state of \"frustration\" should perhaps include some aspect of \"surprise.\" \\n\\nReconsider the prediction!', additional_kwargs={}, response_metadata={}, id='e481b6b5-195c-4777-9814-7d4fae9c0732'), AIMessage(content='Surprise and Frustration', additional_kwargs={}, response_metadata={}, id='dd9feef3-503e-459a-9e1c-3340582858ad'), HumanMessage(content='finish', additional_kwargs={}, response_metadata={}, id='7141845b-0ed9-44aa-8124-4c4ff7431e1d')], 'finished_state': None}\n",
      "CLASSIFICATION CHUNK -> {'msgs': [HumanMessage(content='Jesus Christ!', additional_kwargs={}, response_metadata={}, id='34851992-a57b-4cfe-811f-f8113b632855'), AIMessage(content='surprise', additional_kwargs={}, response_metadata={}, id='4e6fee4d-9b7a-47e5-a7c3-aa06066ab4cd'), HumanMessage(content='The predicted emotional state of \"surprise\" seems reasonable given the exclamation. However, it could also indicate frustration or exasperation, depending on context. Let\\'s consider the possibility of other emotions. \\n\\nRe-evaluate: Is there more context to understand if this expression is purely surprise or something more intense? \\n\\nIf this is in reaction to something unexpected that is positive, surprise stands, but if it\\'s negative, frustration could fit better. \\n\\nWhat do you think?', additional_kwargs={}, response_metadata={}, id='40826d0c-bdca-4158-91b5-161a5e79bf87'), AIMessage(content='Surprise', additional_kwargs={}, response_metadata={}, id='fa7b1407-ede7-4344-b854-eeef6403fdb3'), HumanMessage(content='The prediction of \"surprise\" is valid, but I agree that frustration or exasperation could also be relevant given the tone and possible negative context. Without additional context, we cannot definitively conclude the emotional state. It\\'s essential to consider the nature of the unexpected event. Re-evaluate the emotional state as it might lean towards frustration if the source is negative. \\n\\nWhat do you think?', additional_kwargs={}, response_metadata={}, id='b01e0f9d-ff07-4829-a04d-f4ad887211d9'), AIMessage(content='Frustration', additional_kwargs={}, response_metadata={}, id='093a978b-c8d1-46db-a549-fd1a4884883b'), HumanMessage(content='While \"frustration\" is a valid prediction, the user\\'s acknowledgment of \"surprise\" indicates that there\\'s an element of unexpectedness at play. This suggests that the overall emotional state may not solely lean towards frustration, especially if the surprise itself is ambiguous. It\\'s important to consider both emotions together. Re-evaluating could lead to a prediction that incorporates both surprise and frustration, depending on the context provided. \\n\\nSo, I think the predicted state of \"frustration\" should perhaps include some aspect of \"surprise.\" \\n\\nReconsider the prediction!', additional_kwargs={}, response_metadata={}, id='e481b6b5-195c-4777-9814-7d4fae9c0732'), AIMessage(content='Surprise and Frustration', additional_kwargs={}, response_metadata={}, id='dd9feef3-503e-459a-9e1c-3340582858ad'), HumanMessage(content='finish', additional_kwargs={}, response_metadata={}, id='7141845b-0ed9-44aa-8124-4c4ff7431e1d')], 'finished_state': 'Surprise and Frustration'}\n",
      "{'deeply_classify': {'messages': [AIMessage(content='Surprise and Frustration', additional_kwargs={}, response_metadata={}, id='93114a5b-70bf-493d-a8a5-51bc070d856c')], 'spellcheck_response': SpellcheckBase(spelling='Jesus Christ!', corrected_spelling='Jesus Christ!', correction_applied=False), 'reasoner_response': None}}\n",
      "{'reasoner': {'messages': ['The conversation is brief and expresses surprise or frustration. The final emotional state is one of astonishment.'], 'spellcheck_response': SpellcheckBase(spelling='Jesus Christ!', corrected_spelling='Jesus Christ!', correction_applied=False), 'reasoner_response': None}}\n"
     ]
    }
   ],
   "execution_count": 7
  },
  {
   "metadata": {
    "ExecuteTime": {
     "end_time": "2025-06-15T05:37:48.168746Z",
     "start_time": "2025-06-15T05:37:47.916502Z"
    }
   },
   "cell_type": "code",
   "source": [
    "display(Image(graph.get_graph().draw_mermaid_png()))"
   ],
   "id": "d273fe5f2b8a9a97",
   "outputs": [
    {
     "data": {
      "image/png": "[encoded data removed]",
      "text/plain": [
       "<IPython.core.display.Image object>"
      ]
     },
     "metadata": {},
     "output_type": "display_data"
    }
   ],
   "execution_count": 20
  },
  {
   "metadata": {
    "ExecuteTime": {
     "end_time": "2025-06-15T05:37:49.527589Z",
     "start_time": "2025-06-15T05:37:49.383525Z"
    }
   },
   "cell_type": "code",
   "source": "display(Image(classify.get_graph().draw_mermaid_png()))",
   "id": "63264fe4a9d7fa7a",
   "outputs": [
    {
     "data": {
      "image/png": "[encoded data removed]",
      "text/plain": [
       "<IPython.core.display.Image object>"
      ]
     },
     "metadata": {},
     "output_type": "display_data"
    }
   ],
   "execution_count": 21
  },
  {
   "metadata": {},
   "cell_type": "code",
   "source": "",
   "id": "5ecd8babaafc6bb9",
   "outputs": [],
   "execution_count": null
  }
 ],
 "metadata": {
  "kernelspec": {
   "display_name": "Python 3",
   "language": "python",
   "name": "python3"
  },
  "language_info": {
   "codemirror_mode": {
    "name": "ipython",
    "version": 2
   },
   "file_extension": ".py",
   "mimetype": "text/x-python",
   "name": "python",
   "nbconvert_exporter": "python",
   "pygments_lexer": "ipython2",
   "version": "2.7.6"
  }
 },
 "nbformat": 4,
 "nbformat_minor": 5
}
